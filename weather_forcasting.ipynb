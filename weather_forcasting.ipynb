{
  "metadata": {
    "kernelspec": {
      "language": "python",
      "display_name": "Python 3",
      "name": "python3"
    },
    "language_info": {
      "name": "python",
      "version": "3.10.14",
      "mimetype": "text/x-python",
      "codemirror_mode": {
        "name": "ipython",
        "version": 3
      },
      "pygments_lexer": "ipython3",
      "nbconvert_exporter": "python",
      "file_extension": ".py"
    },
    "kaggle": {
      "accelerator": "none",
      "dataSources": [
        {
          "sourceId": 84975,
          "databundleVersionId": 9562896,
          "sourceType": "competition"
        }
      ],
      "dockerImageVersionId": 30761,
      "isInternetEnabled": true,
      "language": "python",
      "sourceType": "notebook",
      "isGpuEnabled": false
    },
    "colab": {
      "provenance": []
    }
  },
  "nbformat_minor": 0,
  "nbformat": 4,
  "cells": [
    {
      "source": [
        "\n",
        "# IMPORTANT: RUN THIS CELL IN ORDER TO IMPORT YOUR KAGGLE DATA SOURCES\n",
        "# TO THE CORRECT LOCATION (/kaggle/input) IN YOUR NOTEBOOK,\n",
        "# THEN FEEL FREE TO DELETE THIS CELL.\n",
        "# NOTE: THIS NOTEBOOK ENVIRONMENT DIFFERS FROM KAGGLE'S PYTHON\n",
        "# ENVIRONMENT SO THERE MAY BE MISSING LIBRARIES USED BY YOUR\n",
        "# NOTEBOOK.\n",
        "\n",
        "import os\n",
        "import sys\n",
        "from tempfile import NamedTemporaryFile\n",
        "from urllib.request import urlopen\n",
        "from urllib.parse import unquote, urlparse\n",
        "from urllib.error import HTTPError\n",
        "from zipfile import ZipFile\n",
        "import tarfile\n",
        "import shutil\n",
        "\n",
        "CHUNK_SIZE = 40960\n",
        "DATA_SOURCE_MAPPING = 'temperature-forecasting-for-localized-weather-stat:https%3A%2F%2Fstorage.googleapis.com%2Fkaggle-competitions-data%2Fkaggle-v2%2F84975%2F9562896%2Fbundle%2Farchive.zip%3FX-Goog-Algorithm%3DGOOG4-RSA-SHA256%26X-Goog-Credential%3Dgcp-kaggle-com%2540kaggle-161607.iam.gserviceaccount.com%252F20240923%252Fauto%252Fstorage%252Fgoog4_request%26X-Goog-Date%3D20240923T160417Z%26X-Goog-Expires%3D259200%26X-Goog-SignedHeaders%3Dhost%26X-Goog-Signature%3D320183542c8be6c6c08b1da5fa29de2f0d9d2572b2b5b27f689c1536decf24b9e462568825f8b0e9db9733c5f34fda84c747bd1ffd30d94b6852a0560514895c3c6b687af0afafa5bc3c8a73aba809f15b6e8671d8aa0743cf2888a5287520aae87241eb6316842fa8515b8d3c9cc8aaf2c77b8364abccd922c378c236254b986f33c961d1e0e53d3e70fed8f00e9e74e6d803da85db151311e1274180aa91d0a02368c3590d16dc206328928dda29ae05d2be8453ba99e63c0d906945e124302729bf80a265549cac93edcf3e20eec09b53fe0a8643e23d7dc47f3c57f847104a894a9c635d837c8041acfdfa92ac70858730374e461fd600d31d898e9c7c24'\n",
        "\n",
        "KAGGLE_INPUT_PATH='/kaggle/input'\n",
        "KAGGLE_WORKING_PATH='/kaggle/working'\n",
        "KAGGLE_SYMLINK='kaggle'\n",
        "\n",
        "!umount /kaggle/input/ 2> /dev/null\n",
        "shutil.rmtree('/kaggle/input', ignore_errors=True)\n",
        "os.makedirs(KAGGLE_INPUT_PATH, 0o777, exist_ok=True)\n",
        "os.makedirs(KAGGLE_WORKING_PATH, 0o777, exist_ok=True)\n",
        "\n",
        "try:\n",
        "  os.symlink(KAGGLE_INPUT_PATH, os.path.join(\"..\", 'input'), target_is_directory=True)\n",
        "except FileExistsError:\n",
        "  pass\n",
        "try:\n",
        "  os.symlink(KAGGLE_WORKING_PATH, os.path.join(\"..\", 'working'), target_is_directory=True)\n",
        "except FileExistsError:\n",
        "  pass\n",
        "\n",
        "for data_source_mapping in DATA_SOURCE_MAPPING.split(','):\n",
        "    directory, download_url_encoded = data_source_mapping.split(':')\n",
        "    download_url = unquote(download_url_encoded)\n",
        "    filename = urlparse(download_url).path\n",
        "    destination_path = os.path.join(KAGGLE_INPUT_PATH, directory)\n",
        "    try:\n",
        "        with urlopen(download_url) as fileres, NamedTemporaryFile() as tfile:\n",
        "            total_length = fileres.headers['content-length']\n",
        "            print(f'Downloading {directory}, {total_length} bytes compressed')\n",
        "            dl = 0\n",
        "            data = fileres.read(CHUNK_SIZE)\n",
        "            while len(data) > 0:\n",
        "                dl += len(data)\n",
        "                tfile.write(data)\n",
        "                done = int(50 * dl / int(total_length))\n",
        "                sys.stdout.write(f\"\\r[{'=' * done}{' ' * (50-done)}] {dl} bytes downloaded\")\n",
        "                sys.stdout.flush()\n",
        "                data = fileres.read(CHUNK_SIZE)\n",
        "            if filename.endswith('.zip'):\n",
        "              with ZipFile(tfile) as zfile:\n",
        "                zfile.extractall(destination_path)\n",
        "            else:\n",
        "              with tarfile.open(tfile.name) as tarfile:\n",
        "                tarfile.extractall(destination_path)\n",
        "            print(f'\\nDownloaded and uncompressed: {directory}')\n",
        "    except HTTPError as e:\n",
        "        print(f'Failed to load (likely expired) {download_url} to path {destination_path}')\n",
        "        continue\n",
        "    except OSError as e:\n",
        "        print(f'Failed to load {download_url} to path {destination_path}')\n",
        "        continue\n",
        "\n",
        "print('Data source import complete.')\n"
      ],
      "metadata": {
        "id": "72ocSpnAoGuc"
      },
      "cell_type": "code",
      "outputs": [],
      "execution_count": null
    },
    {
      "cell_type": "code",
      "source": [
        "# This Python 3 environment comes with many helpful analytics libraries installed\n",
        "# It is defined by the kaggle/python Docker image: https://github.com/kaggle/docker-python\n",
        "# For example, here's several helpful packages to load\n",
        "\n",
        "import numpy as np # linear algebra\n",
        "import pandas as pd # data processing, CSV file I/O (e.g. pd.read_csv)\n",
        "\n",
        "# Input data files are available in the read-only \"../input/\" directory\n",
        "# For example, running this (by clicking run or pressing Shift+Enter) will list all files under the input directory\n",
        "\n",
        "import os\n",
        "for dirname, _, filenames in os.walk('/kaggle/input'):\n",
        "    for filename in filenames:\n",
        "        print(os.path.join(dirname, filename))\n",
        "\n",
        "# You can write up to 20GB to the current directory (/kaggle/working/) that gets preserved as output when you create a version using \"Save & Run All\"\n",
        "# You can also write temporary files to /kaggle/temp/, but they won't be saved outside of the current session"
      ],
      "metadata": {
        "_uuid": "8f2839f25d086af736a60e9eeb907d3b93b6e0e5",
        "_cell_guid": "b1076dfc-b9ad-4769-8c92-a6c4dae69d19",
        "execution": {
          "iopub.status.busy": "2024-09-23T15:33:49.903107Z",
          "iopub.execute_input": "2024-09-23T15:33:49.903539Z",
          "iopub.status.idle": "2024-09-23T15:33:50.334248Z",
          "shell.execute_reply.started": "2024-09-23T15:33:49.903501Z",
          "shell.execute_reply": "2024-09-23T15:33:50.332813Z"
        },
        "trusted": true,
        "id": "awnW9K74oGuf",
        "outputId": "06589c65-36b1-4117-92c3-a93e05ccd204"
      },
      "execution_count": null,
      "outputs": [
        {
          "name": "stdout",
          "text": "/kaggle/input/temperature-forecasting-for-localized-weather-stat/sample_submission.csv\n/kaggle/input/temperature-forecasting-for-localized-weather-stat/train.csv\n/kaggle/input/temperature-forecasting-for-localized-weather-stat/test.csv\n",
          "output_type": "stream"
        }
      ]
    },
    {
      "cell_type": "code",
      "source": [
        "from warnings import filterwarnings\n",
        "from sklearn.pipeline import Pipeline\n",
        "\n",
        "filterwarnings(action='ignore', category=FutureWarning)"
      ],
      "metadata": {
        "execution": {
          "iopub.status.busy": "2024-09-23T15:33:51.472857Z",
          "iopub.execute_input": "2024-09-23T15:33:51.473452Z",
          "iopub.status.idle": "2024-09-23T15:33:51.478966Z",
          "shell.execute_reply.started": "2024-09-23T15:33:51.473408Z",
          "shell.execute_reply": "2024-09-23T15:33:51.477563Z"
        },
        "trusted": true,
        "id": "6h4P0m7BoGug"
      },
      "execution_count": null,
      "outputs": []
    },
    {
      "cell_type": "code",
      "source": [
        "train_df = pd.read_csv('/kaggle/input/temperature-forecasting-for-localized-weather-stat/train.csv')"
      ],
      "metadata": {
        "execution": {
          "iopub.status.busy": "2024-09-23T15:33:52.655979Z",
          "iopub.execute_input": "2024-09-23T15:33:52.656969Z",
          "iopub.status.idle": "2024-09-23T15:33:52.765418Z",
          "shell.execute_reply.started": "2024-09-23T15:33:52.65692Z",
          "shell.execute_reply": "2024-09-23T15:33:52.76412Z"
        },
        "trusted": true,
        "id": "HlrNQov_oGug"
      },
      "execution_count": null,
      "outputs": []
    },
    {
      "cell_type": "code",
      "source": [
        "train_df.head()"
      ],
      "metadata": {
        "execution": {
          "iopub.status.busy": "2024-09-23T15:33:53.698292Z",
          "iopub.execute_input": "2024-09-23T15:33:53.698693Z",
          "iopub.status.idle": "2024-09-23T15:33:53.73494Z",
          "shell.execute_reply.started": "2024-09-23T15:33:53.698656Z",
          "shell.execute_reply": "2024-09-23T15:33:53.733582Z"
        },
        "trusted": true,
        "id": "ftuOulUHoGuh",
        "outputId": "4d275c6d-cdc1-4ea3-f561-dc969e67546a"
      },
      "execution_count": null,
      "outputs": [
        {
          "execution_count": 6,
          "output_type": "execute_result",
          "data": {
            "text/plain": "   id           mac                          station_name  tambon_code  \\\n0   0  3C71BF164F90                  โรงเรียนท่าข้ามวิทยา       860206   \n1   1  3C71BF1B1E28                   โรงเรียนสรรพวิทยาคม       630601   \n2   2  30AEA4F7AE44  โรงเรียนสามเสนนอก(ประชาราษฎร์อนุกูล)       102601   \n3   3  3C71BF1B1E28                   โรงเรียนสรรพวิทยาคม       630601   \n4   4  807D3AF57920                         บ้านนาสะแบง_2       380704   \n\n  tambon_namt  amphur_code amphur_namt  province_code  province_namt  \\\n0     ท่าข้าม         8602      ท่าแซะ             86          ชุมพร   \n1      แม่สอด         6306      แม่สอด             63            ตาก   \n2      ดินแดง         1026      ดินแดง             10  กรุงเทพมหานคร   \n3      แม่สอด         6306      แม่สอด             63            ตาก   \n4     นาสะแบง         3807     ศรีวิไล             38         บึงกาฬ   \n\n    latitude   longitude                       time  humid  light  pm10  \\\n0  10.579849   99.113146  2022-07-08 19:00:00+07:00   89.9    5.0   6.0   \n1  16.712990   98.573417  2022-07-18 00:00:00+07:00   80.8    0.0   8.0   \n2  13.777972  100.569662  2022-06-19 11:00:00+07:00   60.8   51.0   NaN   \n3  16.712990   98.573417  2022-06-18 03:00:00+07:00   87.1    0.0   6.0   \n4  18.142499  103.806521  2022-07-28 04:00:00+07:00   86.4    3.0   3.0   \n\n   pm2.5  rainfall  wind_direct  wind_speed    temp  \n0    5.0       0.0        180.0         6.1  26.925  \n1    7.0       0.0        135.0         1.4  27.250  \n2    NaN       0.0        270.0         3.9  34.075  \n3    5.0       0.0        135.0         0.0  26.500  \n4    1.0       0.0         22.5         0.0  28.600  ",
            "text/html": "<div>\n<style scoped>\n    .dataframe tbody tr th:only-of-type {\n        vertical-align: middle;\n    }\n\n    .dataframe tbody tr th {\n        vertical-align: top;\n    }\n\n    .dataframe thead th {\n        text-align: right;\n    }\n</style>\n<table border=\"1\" class=\"dataframe\">\n  <thead>\n    <tr style=\"text-align: right;\">\n      <th></th>\n      <th>id</th>\n      <th>mac</th>\n      <th>station_name</th>\n      <th>tambon_code</th>\n      <th>tambon_namt</th>\n      <th>amphur_code</th>\n      <th>amphur_namt</th>\n      <th>province_code</th>\n      <th>province_namt</th>\n      <th>latitude</th>\n      <th>longitude</th>\n      <th>time</th>\n      <th>humid</th>\n      <th>light</th>\n      <th>pm10</th>\n      <th>pm2.5</th>\n      <th>rainfall</th>\n      <th>wind_direct</th>\n      <th>wind_speed</th>\n      <th>temp</th>\n    </tr>\n  </thead>\n  <tbody>\n    <tr>\n      <th>0</th>\n      <td>0</td>\n      <td>3C71BF164F90</td>\n      <td>โรงเรียนท่าข้ามวิทยา</td>\n      <td>860206</td>\n      <td>ท่าข้าม</td>\n      <td>8602</td>\n      <td>ท่าแซะ</td>\n      <td>86</td>\n      <td>ชุมพร</td>\n      <td>10.579849</td>\n      <td>99.113146</td>\n      <td>2022-07-08 19:00:00+07:00</td>\n      <td>89.9</td>\n      <td>5.0</td>\n      <td>6.0</td>\n      <td>5.0</td>\n      <td>0.0</td>\n      <td>180.0</td>\n      <td>6.1</td>\n      <td>26.925</td>\n    </tr>\n    <tr>\n      <th>1</th>\n      <td>1</td>\n      <td>3C71BF1B1E28</td>\n      <td>โรงเรียนสรรพวิทยาคม</td>\n      <td>630601</td>\n      <td>แม่สอด</td>\n      <td>6306</td>\n      <td>แม่สอด</td>\n      <td>63</td>\n      <td>ตาก</td>\n      <td>16.712990</td>\n      <td>98.573417</td>\n      <td>2022-07-18 00:00:00+07:00</td>\n      <td>80.8</td>\n      <td>0.0</td>\n      <td>8.0</td>\n      <td>7.0</td>\n      <td>0.0</td>\n      <td>135.0</td>\n      <td>1.4</td>\n      <td>27.250</td>\n    </tr>\n    <tr>\n      <th>2</th>\n      <td>2</td>\n      <td>30AEA4F7AE44</td>\n      <td>โรงเรียนสามเสนนอก(ประชาราษฎร์อนุกูล)</td>\n      <td>102601</td>\n      <td>ดินแดง</td>\n      <td>1026</td>\n      <td>ดินแดง</td>\n      <td>10</td>\n      <td>กรุงเทพมหานคร</td>\n      <td>13.777972</td>\n      <td>100.569662</td>\n      <td>2022-06-19 11:00:00+07:00</td>\n      <td>60.8</td>\n      <td>51.0</td>\n      <td>NaN</td>\n      <td>NaN</td>\n      <td>0.0</td>\n      <td>270.0</td>\n      <td>3.9</td>\n      <td>34.075</td>\n    </tr>\n    <tr>\n      <th>3</th>\n      <td>3</td>\n      <td>3C71BF1B1E28</td>\n      <td>โรงเรียนสรรพวิทยาคม</td>\n      <td>630601</td>\n      <td>แม่สอด</td>\n      <td>6306</td>\n      <td>แม่สอด</td>\n      <td>63</td>\n      <td>ตาก</td>\n      <td>16.712990</td>\n      <td>98.573417</td>\n      <td>2022-06-18 03:00:00+07:00</td>\n      <td>87.1</td>\n      <td>0.0</td>\n      <td>6.0</td>\n      <td>5.0</td>\n      <td>0.0</td>\n      <td>135.0</td>\n      <td>0.0</td>\n      <td>26.500</td>\n    </tr>\n    <tr>\n      <th>4</th>\n      <td>4</td>\n      <td>807D3AF57920</td>\n      <td>บ้านนาสะแบง_2</td>\n      <td>380704</td>\n      <td>นาสะแบง</td>\n      <td>3807</td>\n      <td>ศรีวิไล</td>\n      <td>38</td>\n      <td>บึงกาฬ</td>\n      <td>18.142499</td>\n      <td>103.806521</td>\n      <td>2022-07-28 04:00:00+07:00</td>\n      <td>86.4</td>\n      <td>3.0</td>\n      <td>3.0</td>\n      <td>1.0</td>\n      <td>0.0</td>\n      <td>22.5</td>\n      <td>0.0</td>\n      <td>28.600</td>\n    </tr>\n  </tbody>\n</table>\n</div>"
          },
          "metadata": {}
        }
      ]
    },
    {
      "cell_type": "code",
      "source": [
        "train_df.columns"
      ],
      "metadata": {
        "execution": {
          "iopub.status.busy": "2024-09-23T15:33:54.874247Z",
          "iopub.execute_input": "2024-09-23T15:33:54.874637Z",
          "iopub.status.idle": "2024-09-23T15:33:54.881823Z",
          "shell.execute_reply.started": "2024-09-23T15:33:54.8746Z",
          "shell.execute_reply": "2024-09-23T15:33:54.88069Z"
        },
        "trusted": true,
        "id": "RUngvFlOoGuh",
        "outputId": "ecf0c1ea-c574-472c-df4a-63c454839820"
      },
      "execution_count": null,
      "outputs": [
        {
          "execution_count": 7,
          "output_type": "execute_result",
          "data": {
            "text/plain": "Index(['id', 'mac', 'station_name', 'tambon_code', 'tambon_namt',\n       'amphur_code', 'amphur_namt', 'province_code', 'province_namt',\n       'latitude', 'longitude', 'time', 'humid', 'light', 'pm10', 'pm2.5',\n       'rainfall', 'wind_direct', 'wind_speed', 'temp'],\n      dtype='object')"
          },
          "metadata": {}
        }
      ]
    },
    {
      "cell_type": "code",
      "source": [
        "train_df[['time', 'humid', 'light', 'pm10', 'pm2.5',\n",
        "       'rainfall', 'wind_direct', 'wind_speed', 'temp']].describe()"
      ],
      "metadata": {
        "execution": {
          "iopub.status.busy": "2024-09-23T15:33:55.817739Z",
          "iopub.execute_input": "2024-09-23T15:33:55.818828Z",
          "iopub.status.idle": "2024-09-23T15:33:55.8663Z",
          "shell.execute_reply.started": "2024-09-23T15:33:55.818773Z",
          "shell.execute_reply": "2024-09-23T15:33:55.865246Z"
        },
        "trusted": true,
        "id": "iFiv0r2YoGui",
        "outputId": "96e16f76-1260-46c5-9308-8cf5b8697a18"
      },
      "execution_count": null,
      "outputs": [
        {
          "execution_count": 8,
          "output_type": "execute_result",
          "data": {
            "text/plain": "             humid        light         pm10        pm2.5     rainfall  \\\ncount  9543.000000  9543.000000  4791.000000  4791.000000  9543.000000   \nmean     80.468417    33.329771     7.640367     6.435191     0.128555   \nstd      12.444779    34.501063     9.043012     9.017724     1.052061   \nmin      41.100000     0.000000     1.000000     0.000000     0.000000   \n25%      71.100000     0.000000     3.000000     2.000000     0.000000   \n50%      82.600000    17.000000     6.000000     4.000000     0.000000   \n75%      90.500000    68.000000    10.000000     9.000000     0.000000   \nmax     100.000000    96.000000   368.000000   368.000000    28.200000   \n\n       wind_direct    wind_speed         temp  \ncount  9543.000000   9543.000000  9543.000000  \nmean    160.494341      5.468364    29.628104  \nstd     100.883976    217.140148     4.591710  \nmin       0.000000      0.000000    17.775000  \n25%      45.000000      0.000000    26.100000  \n50%     180.000000      1.400000    28.575000  \n75%     225.000000      3.300000    32.712500  \nmax     337.500000  15094.300000    51.100000  ",
            "text/html": "<div>\n<style scoped>\n    .dataframe tbody tr th:only-of-type {\n        vertical-align: middle;\n    }\n\n    .dataframe tbody tr th {\n        vertical-align: top;\n    }\n\n    .dataframe thead th {\n        text-align: right;\n    }\n</style>\n<table border=\"1\" class=\"dataframe\">\n  <thead>\n    <tr style=\"text-align: right;\">\n      <th></th>\n      <th>humid</th>\n      <th>light</th>\n      <th>pm10</th>\n      <th>pm2.5</th>\n      <th>rainfall</th>\n      <th>wind_direct</th>\n      <th>wind_speed</th>\n      <th>temp</th>\n    </tr>\n  </thead>\n  <tbody>\n    <tr>\n      <th>count</th>\n      <td>9543.000000</td>\n      <td>9543.000000</td>\n      <td>4791.000000</td>\n      <td>4791.000000</td>\n      <td>9543.000000</td>\n      <td>9543.000000</td>\n      <td>9543.000000</td>\n      <td>9543.000000</td>\n    </tr>\n    <tr>\n      <th>mean</th>\n      <td>80.468417</td>\n      <td>33.329771</td>\n      <td>7.640367</td>\n      <td>6.435191</td>\n      <td>0.128555</td>\n      <td>160.494341</td>\n      <td>5.468364</td>\n      <td>29.628104</td>\n    </tr>\n    <tr>\n      <th>std</th>\n      <td>12.444779</td>\n      <td>34.501063</td>\n      <td>9.043012</td>\n      <td>9.017724</td>\n      <td>1.052061</td>\n      <td>100.883976</td>\n      <td>217.140148</td>\n      <td>4.591710</td>\n    </tr>\n    <tr>\n      <th>min</th>\n      <td>41.100000</td>\n      <td>0.000000</td>\n      <td>1.000000</td>\n      <td>0.000000</td>\n      <td>0.000000</td>\n      <td>0.000000</td>\n      <td>0.000000</td>\n      <td>17.775000</td>\n    </tr>\n    <tr>\n      <th>25%</th>\n      <td>71.100000</td>\n      <td>0.000000</td>\n      <td>3.000000</td>\n      <td>2.000000</td>\n      <td>0.000000</td>\n      <td>45.000000</td>\n      <td>0.000000</td>\n      <td>26.100000</td>\n    </tr>\n    <tr>\n      <th>50%</th>\n      <td>82.600000</td>\n      <td>17.000000</td>\n      <td>6.000000</td>\n      <td>4.000000</td>\n      <td>0.000000</td>\n      <td>180.000000</td>\n      <td>1.400000</td>\n      <td>28.575000</td>\n    </tr>\n    <tr>\n      <th>75%</th>\n      <td>90.500000</td>\n      <td>68.000000</td>\n      <td>10.000000</td>\n      <td>9.000000</td>\n      <td>0.000000</td>\n      <td>225.000000</td>\n      <td>3.300000</td>\n      <td>32.712500</td>\n    </tr>\n    <tr>\n      <th>max</th>\n      <td>100.000000</td>\n      <td>96.000000</td>\n      <td>368.000000</td>\n      <td>368.000000</td>\n      <td>28.200000</td>\n      <td>337.500000</td>\n      <td>15094.300000</td>\n      <td>51.100000</td>\n    </tr>\n  </tbody>\n</table>\n</div>"
          },
          "metadata": {}
        }
      ]
    },
    {
      "cell_type": "markdown",
      "source": [
        "Outliner: Light, PM10, PM2.5"
      ],
      "metadata": {
        "id": "A1pq9SrOoGui"
      }
    },
    {
      "cell_type": "code",
      "source": [
        "tmp_train = train_df.copy()"
      ],
      "metadata": {
        "execution": {
          "iopub.status.busy": "2024-09-23T15:33:57.569808Z",
          "iopub.execute_input": "2024-09-23T15:33:57.570249Z",
          "iopub.status.idle": "2024-09-23T15:33:57.576063Z",
          "shell.execute_reply.started": "2024-09-23T15:33:57.570207Z",
          "shell.execute_reply": "2024-09-23T15:33:57.574901Z"
        },
        "trusted": true,
        "id": "BHayONmSoGul"
      },
      "execution_count": null,
      "outputs": []
    },
    {
      "cell_type": "code",
      "source": [
        "def remove_outliers(df):\n",
        "    numeric_df = df.select_dtypes(include=['number'])  # Select only numeric columns\n",
        "    for column in numeric_df.columns:\n",
        "        Q1 = numeric_df[column].quantile(0.25)\n",
        "        Q3 = numeric_df[column].quantile(0.75)\n",
        "        IQR = Q3 - Q1\n",
        "        lower_bound = Q1 - 1.5 * IQR\n",
        "        upper_bound = Q3 + 1.5 * IQR\n",
        "        df = df[(df[column] >= lower_bound) & (df[column] <= upper_bound)]\n",
        "    return df\n",
        "\n",
        "tmp_train = remove_outliers(tmp_train)\n",
        "tmp_train"
      ],
      "metadata": {
        "execution": {
          "iopub.status.busy": "2024-09-23T15:33:58.605731Z",
          "iopub.execute_input": "2024-09-23T15:33:58.60616Z",
          "iopub.status.idle": "2024-09-23T15:33:58.679052Z",
          "shell.execute_reply.started": "2024-09-23T15:33:58.606105Z",
          "shell.execute_reply": "2024-09-23T15:33:58.677889Z"
        },
        "trusted": true,
        "id": "45eEjV_0oGum",
        "outputId": "ea3cbbdd-bd1f-40f6-eaac-ce7ed47725ec"
      },
      "execution_count": null,
      "outputs": [
        {
          "execution_count": 10,
          "output_type": "execute_result",
          "data": {
            "text/plain": "        id           mac          station_name  tambon_code tambon_namt  \\\n0        0  3C71BF164F90  โรงเรียนท่าข้ามวิทยา       860206     ท่าข้าม   \n1        1  3C71BF1B1E28   โรงเรียนสรรพวิทยาคม       630601      แม่สอด   \n3        3  3C71BF1B1E28   โรงเรียนสรรพวิทยาคม       630601      แม่สอด   \n4        4  807D3AF57920         บ้านนาสะแบง_2       380704     นาสะแบง   \n5        5  807D3AF57920         บ้านนาสะแบง_2       380704     นาสะแบง   \n...    ...           ...                   ...          ...         ...   \n9521  9521  807D3AF57920         บ้านนาสะแบง_2       380704     นาสะแบง   \n9522  9522  3C71BF17CDBC        โรงเรียนบ้านนา       550404        สถาน   \n9530  9530  3C71BF164F90  โรงเรียนท่าข้ามวิทยา       860206     ท่าข้าม   \n9531  9531  3C71BF15DB04    บ้านสำโรงเกียรติ_2       330802      บักดอง   \n9542  9542  3C71BF17CDBC        โรงเรียนบ้านนา       550404        สถาน   \n\n      amphur_code amphur_namt  province_code province_namt   latitude  \\\n0            8602      ท่าแซะ             86         ชุมพร  10.579849   \n1            6306      แม่สอด             63           ตาก  16.712990   \n3            6306      แม่สอด             63           ตาก  16.712990   \n4            3807     ศรีวิไล             38        บึงกาฬ  18.142499   \n5            3807     ศรีวิไล             38        บึงกาฬ  18.142499   \n...           ...         ...            ...           ...        ...   \n9521         3807     ศรีวิไล             38        บึงกาฬ  18.142499   \n9522         5504      นาน้อย             55          น่าน  18.241106   \n9530         8602      ท่าแซะ             86         ชุมพร  10.579849   \n9531         3308      ขุนหาญ             33      ศรีสะเกษ  14.533026   \n9542         5504      นาน้อย             55          น่าน  18.241106   \n\n       longitude                       time  humid  light  pm10  pm2.5  \\\n0      99.113146  2022-07-08 19:00:00+07:00   89.9    5.0   6.0    5.0   \n1      98.573417  2022-07-18 00:00:00+07:00   80.8    0.0   8.0    7.0   \n3      98.573417  2022-06-18 03:00:00+07:00   87.1    0.0   6.0    5.0   \n4     103.806521  2022-07-28 04:00:00+07:00   86.4    3.0   3.0    1.0   \n5     103.806521  2022-05-03 20:00:00+07:00   59.4    2.0   4.0    2.0   \n...          ...                        ...    ...    ...   ...    ...   \n9521  103.806521  2022-07-10 22:00:00+07:00   88.0    0.0   2.0    1.0   \n9522  100.690577  2022-07-11 19:00:00+07:00   87.4    0.0   7.0    5.0   \n9530   99.113146  2022-05-12 18:00:00+07:00   87.0   24.0  15.0   14.0   \n9531  104.495172  2022-05-14 05:00:00+07:00   91.2    0.0  10.0    9.0   \n9542  100.690577  2022-05-25 17:00:00+07:00   61.8   86.0  10.0    9.0   \n\n      rainfall  wind_direct  wind_speed    temp  \n0          0.0        180.0         6.1  26.925  \n1          0.0        135.0         1.4  27.250  \n3          0.0        135.0         0.0  26.500  \n4          0.0         22.5         0.0  28.600  \n5          0.0         45.0         1.6  27.000  \n...        ...          ...         ...     ...  \n9521       0.0         45.0         3.6  26.700  \n9522       0.0        225.0         0.0  27.700  \n9530       0.0        180.0         2.7  28.575  \n9531       0.0        315.0         0.7  26.975  \n9542       0.0         45.0         3.5  36.775  \n\n[4143 rows x 20 columns]",
            "text/html": "<div>\n<style scoped>\n    .dataframe tbody tr th:only-of-type {\n        vertical-align: middle;\n    }\n\n    .dataframe tbody tr th {\n        vertical-align: top;\n    }\n\n    .dataframe thead th {\n        text-align: right;\n    }\n</style>\n<table border=\"1\" class=\"dataframe\">\n  <thead>\n    <tr style=\"text-align: right;\">\n      <th></th>\n      <th>id</th>\n      <th>mac</th>\n      <th>station_name</th>\n      <th>tambon_code</th>\n      <th>tambon_namt</th>\n      <th>amphur_code</th>\n      <th>amphur_namt</th>\n      <th>province_code</th>\n      <th>province_namt</th>\n      <th>latitude</th>\n      <th>longitude</th>\n      <th>time</th>\n      <th>humid</th>\n      <th>light</th>\n      <th>pm10</th>\n      <th>pm2.5</th>\n      <th>rainfall</th>\n      <th>wind_direct</th>\n      <th>wind_speed</th>\n      <th>temp</th>\n    </tr>\n  </thead>\n  <tbody>\n    <tr>\n      <th>0</th>\n      <td>0</td>\n      <td>3C71BF164F90</td>\n      <td>โรงเรียนท่าข้ามวิทยา</td>\n      <td>860206</td>\n      <td>ท่าข้าม</td>\n      <td>8602</td>\n      <td>ท่าแซะ</td>\n      <td>86</td>\n      <td>ชุมพร</td>\n      <td>10.579849</td>\n      <td>99.113146</td>\n      <td>2022-07-08 19:00:00+07:00</td>\n      <td>89.9</td>\n      <td>5.0</td>\n      <td>6.0</td>\n      <td>5.0</td>\n      <td>0.0</td>\n      <td>180.0</td>\n      <td>6.1</td>\n      <td>26.925</td>\n    </tr>\n    <tr>\n      <th>1</th>\n      <td>1</td>\n      <td>3C71BF1B1E28</td>\n      <td>โรงเรียนสรรพวิทยาคม</td>\n      <td>630601</td>\n      <td>แม่สอด</td>\n      <td>6306</td>\n      <td>แม่สอด</td>\n      <td>63</td>\n      <td>ตาก</td>\n      <td>16.712990</td>\n      <td>98.573417</td>\n      <td>2022-07-18 00:00:00+07:00</td>\n      <td>80.8</td>\n      <td>0.0</td>\n      <td>8.0</td>\n      <td>7.0</td>\n      <td>0.0</td>\n      <td>135.0</td>\n      <td>1.4</td>\n      <td>27.250</td>\n    </tr>\n    <tr>\n      <th>3</th>\n      <td>3</td>\n      <td>3C71BF1B1E28</td>\n      <td>โรงเรียนสรรพวิทยาคม</td>\n      <td>630601</td>\n      <td>แม่สอด</td>\n      <td>6306</td>\n      <td>แม่สอด</td>\n      <td>63</td>\n      <td>ตาก</td>\n      <td>16.712990</td>\n      <td>98.573417</td>\n      <td>2022-06-18 03:00:00+07:00</td>\n      <td>87.1</td>\n      <td>0.0</td>\n      <td>6.0</td>\n      <td>5.0</td>\n      <td>0.0</td>\n      <td>135.0</td>\n      <td>0.0</td>\n      <td>26.500</td>\n    </tr>\n    <tr>\n      <th>4</th>\n      <td>4</td>\n      <td>807D3AF57920</td>\n      <td>บ้านนาสะแบง_2</td>\n      <td>380704</td>\n      <td>นาสะแบง</td>\n      <td>3807</td>\n      <td>ศรีวิไล</td>\n      <td>38</td>\n      <td>บึงกาฬ</td>\n      <td>18.142499</td>\n      <td>103.806521</td>\n      <td>2022-07-28 04:00:00+07:00</td>\n      <td>86.4</td>\n      <td>3.0</td>\n      <td>3.0</td>\n      <td>1.0</td>\n      <td>0.0</td>\n      <td>22.5</td>\n      <td>0.0</td>\n      <td>28.600</td>\n    </tr>\n    <tr>\n      <th>5</th>\n      <td>5</td>\n      <td>807D3AF57920</td>\n      <td>บ้านนาสะแบง_2</td>\n      <td>380704</td>\n      <td>นาสะแบง</td>\n      <td>3807</td>\n      <td>ศรีวิไล</td>\n      <td>38</td>\n      <td>บึงกาฬ</td>\n      <td>18.142499</td>\n      <td>103.806521</td>\n      <td>2022-05-03 20:00:00+07:00</td>\n      <td>59.4</td>\n      <td>2.0</td>\n      <td>4.0</td>\n      <td>2.0</td>\n      <td>0.0</td>\n      <td>45.0</td>\n      <td>1.6</td>\n      <td>27.000</td>\n    </tr>\n    <tr>\n      <th>...</th>\n      <td>...</td>\n      <td>...</td>\n      <td>...</td>\n      <td>...</td>\n      <td>...</td>\n      <td>...</td>\n      <td>...</td>\n      <td>...</td>\n      <td>...</td>\n      <td>...</td>\n      <td>...</td>\n      <td>...</td>\n      <td>...</td>\n      <td>...</td>\n      <td>...</td>\n      <td>...</td>\n      <td>...</td>\n      <td>...</td>\n      <td>...</td>\n      <td>...</td>\n    </tr>\n    <tr>\n      <th>9521</th>\n      <td>9521</td>\n      <td>807D3AF57920</td>\n      <td>บ้านนาสะแบง_2</td>\n      <td>380704</td>\n      <td>นาสะแบง</td>\n      <td>3807</td>\n      <td>ศรีวิไล</td>\n      <td>38</td>\n      <td>บึงกาฬ</td>\n      <td>18.142499</td>\n      <td>103.806521</td>\n      <td>2022-07-10 22:00:00+07:00</td>\n      <td>88.0</td>\n      <td>0.0</td>\n      <td>2.0</td>\n      <td>1.0</td>\n      <td>0.0</td>\n      <td>45.0</td>\n      <td>3.6</td>\n      <td>26.700</td>\n    </tr>\n    <tr>\n      <th>9522</th>\n      <td>9522</td>\n      <td>3C71BF17CDBC</td>\n      <td>โรงเรียนบ้านนา</td>\n      <td>550404</td>\n      <td>สถาน</td>\n      <td>5504</td>\n      <td>นาน้อย</td>\n      <td>55</td>\n      <td>น่าน</td>\n      <td>18.241106</td>\n      <td>100.690577</td>\n      <td>2022-07-11 19:00:00+07:00</td>\n      <td>87.4</td>\n      <td>0.0</td>\n      <td>7.0</td>\n      <td>5.0</td>\n      <td>0.0</td>\n      <td>225.0</td>\n      <td>0.0</td>\n      <td>27.700</td>\n    </tr>\n    <tr>\n      <th>9530</th>\n      <td>9530</td>\n      <td>3C71BF164F90</td>\n      <td>โรงเรียนท่าข้ามวิทยา</td>\n      <td>860206</td>\n      <td>ท่าข้าม</td>\n      <td>8602</td>\n      <td>ท่าแซะ</td>\n      <td>86</td>\n      <td>ชุมพร</td>\n      <td>10.579849</td>\n      <td>99.113146</td>\n      <td>2022-05-12 18:00:00+07:00</td>\n      <td>87.0</td>\n      <td>24.0</td>\n      <td>15.0</td>\n      <td>14.0</td>\n      <td>0.0</td>\n      <td>180.0</td>\n      <td>2.7</td>\n      <td>28.575</td>\n    </tr>\n    <tr>\n      <th>9531</th>\n      <td>9531</td>\n      <td>3C71BF15DB04</td>\n      <td>บ้านสำโรงเกียรติ_2</td>\n      <td>330802</td>\n      <td>บักดอง</td>\n      <td>3308</td>\n      <td>ขุนหาญ</td>\n      <td>33</td>\n      <td>ศรีสะเกษ</td>\n      <td>14.533026</td>\n      <td>104.495172</td>\n      <td>2022-05-14 05:00:00+07:00</td>\n      <td>91.2</td>\n      <td>0.0</td>\n      <td>10.0</td>\n      <td>9.0</td>\n      <td>0.0</td>\n      <td>315.0</td>\n      <td>0.7</td>\n      <td>26.975</td>\n    </tr>\n    <tr>\n      <th>9542</th>\n      <td>9542</td>\n      <td>3C71BF17CDBC</td>\n      <td>โรงเรียนบ้านนา</td>\n      <td>550404</td>\n      <td>สถาน</td>\n      <td>5504</td>\n      <td>นาน้อย</td>\n      <td>55</td>\n      <td>น่าน</td>\n      <td>18.241106</td>\n      <td>100.690577</td>\n      <td>2022-05-25 17:00:00+07:00</td>\n      <td>61.8</td>\n      <td>86.0</td>\n      <td>10.0</td>\n      <td>9.0</td>\n      <td>0.0</td>\n      <td>45.0</td>\n      <td>3.5</td>\n      <td>36.775</td>\n    </tr>\n  </tbody>\n</table>\n<p>4143 rows × 20 columns</p>\n</div>"
          },
          "metadata": {}
        }
      ]
    },
    {
      "cell_type": "code",
      "source": [
        "tmp_train.head()"
      ],
      "metadata": {
        "execution": {
          "iopub.status.busy": "2024-09-23T15:33:59.514697Z",
          "iopub.execute_input": "2024-09-23T15:33:59.515125Z",
          "iopub.status.idle": "2024-09-23T15:33:59.539999Z",
          "shell.execute_reply.started": "2024-09-23T15:33:59.515087Z",
          "shell.execute_reply": "2024-09-23T15:33:59.538669Z"
        },
        "trusted": true,
        "id": "9M7wVTAroGum",
        "outputId": "5770ba07-a4c6-4112-f500-9f4ed6617400"
      },
      "execution_count": null,
      "outputs": [
        {
          "execution_count": 11,
          "output_type": "execute_result",
          "data": {
            "text/plain": "   id           mac          station_name  tambon_code tambon_namt  \\\n0   0  3C71BF164F90  โรงเรียนท่าข้ามวิทยา       860206     ท่าข้าม   \n1   1  3C71BF1B1E28   โรงเรียนสรรพวิทยาคม       630601      แม่สอด   \n3   3  3C71BF1B1E28   โรงเรียนสรรพวิทยาคม       630601      แม่สอด   \n4   4  807D3AF57920         บ้านนาสะแบง_2       380704     นาสะแบง   \n5   5  807D3AF57920         บ้านนาสะแบง_2       380704     นาสะแบง   \n\n   amphur_code amphur_namt  province_code province_namt   latitude  \\\n0         8602      ท่าแซะ             86         ชุมพร  10.579849   \n1         6306      แม่สอด             63           ตาก  16.712990   \n3         6306      แม่สอด             63           ตาก  16.712990   \n4         3807     ศรีวิไล             38        บึงกาฬ  18.142499   \n5         3807     ศรีวิไล             38        บึงกาฬ  18.142499   \n\n    longitude                       time  humid  light  pm10  pm2.5  rainfall  \\\n0   99.113146  2022-07-08 19:00:00+07:00   89.9    5.0   6.0    5.0       0.0   \n1   98.573417  2022-07-18 00:00:00+07:00   80.8    0.0   8.0    7.0       0.0   \n3   98.573417  2022-06-18 03:00:00+07:00   87.1    0.0   6.0    5.0       0.0   \n4  103.806521  2022-07-28 04:00:00+07:00   86.4    3.0   3.0    1.0       0.0   \n5  103.806521  2022-05-03 20:00:00+07:00   59.4    2.0   4.0    2.0       0.0   \n\n   wind_direct  wind_speed    temp  \n0        180.0         6.1  26.925  \n1        135.0         1.4  27.250  \n3        135.0         0.0  26.500  \n4         22.5         0.0  28.600  \n5         45.0         1.6  27.000  ",
            "text/html": "<div>\n<style scoped>\n    .dataframe tbody tr th:only-of-type {\n        vertical-align: middle;\n    }\n\n    .dataframe tbody tr th {\n        vertical-align: top;\n    }\n\n    .dataframe thead th {\n        text-align: right;\n    }\n</style>\n<table border=\"1\" class=\"dataframe\">\n  <thead>\n    <tr style=\"text-align: right;\">\n      <th></th>\n      <th>id</th>\n      <th>mac</th>\n      <th>station_name</th>\n      <th>tambon_code</th>\n      <th>tambon_namt</th>\n      <th>amphur_code</th>\n      <th>amphur_namt</th>\n      <th>province_code</th>\n      <th>province_namt</th>\n      <th>latitude</th>\n      <th>longitude</th>\n      <th>time</th>\n      <th>humid</th>\n      <th>light</th>\n      <th>pm10</th>\n      <th>pm2.5</th>\n      <th>rainfall</th>\n      <th>wind_direct</th>\n      <th>wind_speed</th>\n      <th>temp</th>\n    </tr>\n  </thead>\n  <tbody>\n    <tr>\n      <th>0</th>\n      <td>0</td>\n      <td>3C71BF164F90</td>\n      <td>โรงเรียนท่าข้ามวิทยา</td>\n      <td>860206</td>\n      <td>ท่าข้าม</td>\n      <td>8602</td>\n      <td>ท่าแซะ</td>\n      <td>86</td>\n      <td>ชุมพร</td>\n      <td>10.579849</td>\n      <td>99.113146</td>\n      <td>2022-07-08 19:00:00+07:00</td>\n      <td>89.9</td>\n      <td>5.0</td>\n      <td>6.0</td>\n      <td>5.0</td>\n      <td>0.0</td>\n      <td>180.0</td>\n      <td>6.1</td>\n      <td>26.925</td>\n    </tr>\n    <tr>\n      <th>1</th>\n      <td>1</td>\n      <td>3C71BF1B1E28</td>\n      <td>โรงเรียนสรรพวิทยาคม</td>\n      <td>630601</td>\n      <td>แม่สอด</td>\n      <td>6306</td>\n      <td>แม่สอด</td>\n      <td>63</td>\n      <td>ตาก</td>\n      <td>16.712990</td>\n      <td>98.573417</td>\n      <td>2022-07-18 00:00:00+07:00</td>\n      <td>80.8</td>\n      <td>0.0</td>\n      <td>8.0</td>\n      <td>7.0</td>\n      <td>0.0</td>\n      <td>135.0</td>\n      <td>1.4</td>\n      <td>27.250</td>\n    </tr>\n    <tr>\n      <th>3</th>\n      <td>3</td>\n      <td>3C71BF1B1E28</td>\n      <td>โรงเรียนสรรพวิทยาคม</td>\n      <td>630601</td>\n      <td>แม่สอด</td>\n      <td>6306</td>\n      <td>แม่สอด</td>\n      <td>63</td>\n      <td>ตาก</td>\n      <td>16.712990</td>\n      <td>98.573417</td>\n      <td>2022-06-18 03:00:00+07:00</td>\n      <td>87.1</td>\n      <td>0.0</td>\n      <td>6.0</td>\n      <td>5.0</td>\n      <td>0.0</td>\n      <td>135.0</td>\n      <td>0.0</td>\n      <td>26.500</td>\n    </tr>\n    <tr>\n      <th>4</th>\n      <td>4</td>\n      <td>807D3AF57920</td>\n      <td>บ้านนาสะแบง_2</td>\n      <td>380704</td>\n      <td>นาสะแบง</td>\n      <td>3807</td>\n      <td>ศรีวิไล</td>\n      <td>38</td>\n      <td>บึงกาฬ</td>\n      <td>18.142499</td>\n      <td>103.806521</td>\n      <td>2022-07-28 04:00:00+07:00</td>\n      <td>86.4</td>\n      <td>3.0</td>\n      <td>3.0</td>\n      <td>1.0</td>\n      <td>0.0</td>\n      <td>22.5</td>\n      <td>0.0</td>\n      <td>28.600</td>\n    </tr>\n    <tr>\n      <th>5</th>\n      <td>5</td>\n      <td>807D3AF57920</td>\n      <td>บ้านนาสะแบง_2</td>\n      <td>380704</td>\n      <td>นาสะแบง</td>\n      <td>3807</td>\n      <td>ศรีวิไล</td>\n      <td>38</td>\n      <td>บึงกาฬ</td>\n      <td>18.142499</td>\n      <td>103.806521</td>\n      <td>2022-05-03 20:00:00+07:00</td>\n      <td>59.4</td>\n      <td>2.0</td>\n      <td>4.0</td>\n      <td>2.0</td>\n      <td>0.0</td>\n      <td>45.0</td>\n      <td>1.6</td>\n      <td>27.000</td>\n    </tr>\n  </tbody>\n</table>\n</div>"
          },
          "metadata": {}
        }
      ]
    },
    {
      "cell_type": "code",
      "source": [
        "tmp_train.index = tmp_train['id']"
      ],
      "metadata": {
        "execution": {
          "iopub.status.busy": "2024-09-23T15:34:00.314645Z",
          "iopub.execute_input": "2024-09-23T15:34:00.315231Z",
          "iopub.status.idle": "2024-09-23T15:34:00.321378Z",
          "shell.execute_reply.started": "2024-09-23T15:34:00.315186Z",
          "shell.execute_reply": "2024-09-23T15:34:00.319966Z"
        },
        "trusted": true,
        "id": "GBhX6UDDoGun"
      },
      "execution_count": null,
      "outputs": []
    },
    {
      "cell_type": "code",
      "source": [
        "tmp_train = tmp_train.drop(['id'], axis=1)"
      ],
      "metadata": {
        "execution": {
          "iopub.status.busy": "2024-09-23T15:34:01.136549Z",
          "iopub.execute_input": "2024-09-23T15:34:01.136958Z",
          "iopub.status.idle": "2024-09-23T15:34:01.14404Z",
          "shell.execute_reply.started": "2024-09-23T15:34:01.13692Z",
          "shell.execute_reply": "2024-09-23T15:34:01.142803Z"
        },
        "trusted": true,
        "id": "5H4pTomhoGun"
      },
      "execution_count": null,
      "outputs": []
    },
    {
      "cell_type": "code",
      "source": [
        "tmp_train.columns"
      ],
      "metadata": {
        "execution": {
          "iopub.status.busy": "2024-09-23T15:34:01.930088Z",
          "iopub.execute_input": "2024-09-23T15:34:01.930516Z",
          "iopub.status.idle": "2024-09-23T15:34:01.9397Z",
          "shell.execute_reply.started": "2024-09-23T15:34:01.930479Z",
          "shell.execute_reply": "2024-09-23T15:34:01.93804Z"
        },
        "trusted": true,
        "id": "t_-FnerFoGuo",
        "outputId": "b87655ec-3bf3-4248-b838-276813f1ebdd"
      },
      "execution_count": null,
      "outputs": [
        {
          "execution_count": 14,
          "output_type": "execute_result",
          "data": {
            "text/plain": "Index(['mac', 'station_name', 'tambon_code', 'tambon_namt', 'amphur_code',\n       'amphur_namt', 'province_code', 'province_namt', 'latitude',\n       'longitude', 'time', 'humid', 'light', 'pm10', 'pm2.5', 'rainfall',\n       'wind_direct', 'wind_speed', 'temp'],\n      dtype='object')"
          },
          "metadata": {}
        }
      ]
    },
    {
      "cell_type": "code",
      "source": [
        "cols = ['mac', 'time', 'humid', 'light', 'pm10', 'pm2.5',\n",
        "       'wind_direct', 'wind_speed', 'temp']\n",
        "\n",
        "tmp_train = tmp_train[cols]"
      ],
      "metadata": {
        "execution": {
          "iopub.status.busy": "2024-09-23T15:34:02.747197Z",
          "iopub.execute_input": "2024-09-23T15:34:02.747604Z",
          "iopub.status.idle": "2024-09-23T15:34:02.754827Z",
          "shell.execute_reply.started": "2024-09-23T15:34:02.747565Z",
          "shell.execute_reply": "2024-09-23T15:34:02.753576Z"
        },
        "trusted": true,
        "id": "1zR8XXMcoGuo"
      },
      "execution_count": null,
      "outputs": []
    },
    {
      "cell_type": "code",
      "source": [
        "tmp_train['time'] = pd.to_datetime(tmp_train['time'])\n",
        "tmp_train['hour'] = tmp_train.loc[:, 'time'].dt.hour\n",
        "tmp_train['day_of_week'] = tmp_train.loc[:, 'time'].dt.dayofweek\n",
        "tmp_train['month'] = tmp_train.loc[:, 'time'].dt.month\n",
        "tmp_train = tmp_train.drop(['time'], axis=1)"
      ],
      "metadata": {
        "execution": {
          "iopub.status.busy": "2024-09-23T15:34:03.607675Z",
          "iopub.execute_input": "2024-09-23T15:34:03.608073Z",
          "iopub.status.idle": "2024-09-23T15:34:03.659556Z",
          "shell.execute_reply.started": "2024-09-23T15:34:03.608031Z",
          "shell.execute_reply": "2024-09-23T15:34:03.65852Z"
        },
        "trusted": true,
        "id": "ZfqpjAhDoGuo"
      },
      "execution_count": null,
      "outputs": []
    },
    {
      "cell_type": "code",
      "source": [
        "tmp_train.head()"
      ],
      "metadata": {
        "execution": {
          "iopub.status.busy": "2024-09-23T15:34:04.62574Z",
          "iopub.execute_input": "2024-09-23T15:34:04.626183Z",
          "iopub.status.idle": "2024-09-23T15:34:04.645765Z",
          "shell.execute_reply.started": "2024-09-23T15:34:04.626128Z",
          "shell.execute_reply": "2024-09-23T15:34:04.644396Z"
        },
        "trusted": true,
        "id": "ZNMJLnQpoGuo",
        "outputId": "e712c0d3-7fc1-4e6c-abac-6567f2462a80"
      },
      "execution_count": null,
      "outputs": [
        {
          "execution_count": 17,
          "output_type": "execute_result",
          "data": {
            "text/plain": "             mac  humid  light  pm10  pm2.5  wind_direct  wind_speed    temp  \\\nid                                                                             \n0   3C71BF164F90   89.9    5.0   6.0    5.0        180.0         6.1  26.925   \n1   3C71BF1B1E28   80.8    0.0   8.0    7.0        135.0         1.4  27.250   \n3   3C71BF1B1E28   87.1    0.0   6.0    5.0        135.0         0.0  26.500   \n4   807D3AF57920   86.4    3.0   3.0    1.0         22.5         0.0  28.600   \n5   807D3AF57920   59.4    2.0   4.0    2.0         45.0         1.6  27.000   \n\n    hour  day_of_week  month  \nid                            \n0     19            4      7  \n1      0            0      7  \n3      3            5      6  \n4      4            3      7  \n5     20            1      5  ",
            "text/html": "<div>\n<style scoped>\n    .dataframe tbody tr th:only-of-type {\n        vertical-align: middle;\n    }\n\n    .dataframe tbody tr th {\n        vertical-align: top;\n    }\n\n    .dataframe thead th {\n        text-align: right;\n    }\n</style>\n<table border=\"1\" class=\"dataframe\">\n  <thead>\n    <tr style=\"text-align: right;\">\n      <th></th>\n      <th>mac</th>\n      <th>humid</th>\n      <th>light</th>\n      <th>pm10</th>\n      <th>pm2.5</th>\n      <th>wind_direct</th>\n      <th>wind_speed</th>\n      <th>temp</th>\n      <th>hour</th>\n      <th>day_of_week</th>\n      <th>month</th>\n    </tr>\n    <tr>\n      <th>id</th>\n      <th></th>\n      <th></th>\n      <th></th>\n      <th></th>\n      <th></th>\n      <th></th>\n      <th></th>\n      <th></th>\n      <th></th>\n      <th></th>\n      <th></th>\n    </tr>\n  </thead>\n  <tbody>\n    <tr>\n      <th>0</th>\n      <td>3C71BF164F90</td>\n      <td>89.9</td>\n      <td>5.0</td>\n      <td>6.0</td>\n      <td>5.0</td>\n      <td>180.0</td>\n      <td>6.1</td>\n      <td>26.925</td>\n      <td>19</td>\n      <td>4</td>\n      <td>7</td>\n    </tr>\n    <tr>\n      <th>1</th>\n      <td>3C71BF1B1E28</td>\n      <td>80.8</td>\n      <td>0.0</td>\n      <td>8.0</td>\n      <td>7.0</td>\n      <td>135.0</td>\n      <td>1.4</td>\n      <td>27.250</td>\n      <td>0</td>\n      <td>0</td>\n      <td>7</td>\n    </tr>\n    <tr>\n      <th>3</th>\n      <td>3C71BF1B1E28</td>\n      <td>87.1</td>\n      <td>0.0</td>\n      <td>6.0</td>\n      <td>5.0</td>\n      <td>135.0</td>\n      <td>0.0</td>\n      <td>26.500</td>\n      <td>3</td>\n      <td>5</td>\n      <td>6</td>\n    </tr>\n    <tr>\n      <th>4</th>\n      <td>807D3AF57920</td>\n      <td>86.4</td>\n      <td>3.0</td>\n      <td>3.0</td>\n      <td>1.0</td>\n      <td>22.5</td>\n      <td>0.0</td>\n      <td>28.600</td>\n      <td>4</td>\n      <td>3</td>\n      <td>7</td>\n    </tr>\n    <tr>\n      <th>5</th>\n      <td>807D3AF57920</td>\n      <td>59.4</td>\n      <td>2.0</td>\n      <td>4.0</td>\n      <td>2.0</td>\n      <td>45.0</td>\n      <td>1.6</td>\n      <td>27.000</td>\n      <td>20</td>\n      <td>1</td>\n      <td>5</td>\n    </tr>\n  </tbody>\n</table>\n</div>"
          },
          "metadata": {}
        }
      ]
    },
    {
      "cell_type": "code",
      "source": [
        "tmp_train.info()"
      ],
      "metadata": {
        "execution": {
          "iopub.status.busy": "2024-09-23T15:34:05.504033Z",
          "iopub.execute_input": "2024-09-23T15:34:05.504453Z",
          "iopub.status.idle": "2024-09-23T15:34:05.527291Z",
          "shell.execute_reply.started": "2024-09-23T15:34:05.504417Z",
          "shell.execute_reply": "2024-09-23T15:34:05.526223Z"
        },
        "trusted": true,
        "id": "7wEJxLv4oGup",
        "outputId": "d8d642cc-090e-411e-8c5e-11d67597f95e"
      },
      "execution_count": null,
      "outputs": [
        {
          "name": "stdout",
          "text": "<class 'pandas.core.frame.DataFrame'>\nIndex: 4143 entries, 0 to 9542\nData columns (total 11 columns):\n #   Column       Non-Null Count  Dtype  \n---  ------       --------------  -----  \n 0   mac          4143 non-null   object \n 1   humid        4143 non-null   float64\n 2   light        4143 non-null   float64\n 3   pm10         4143 non-null   float64\n 4   pm2.5        4143 non-null   float64\n 5   wind_direct  4143 non-null   float64\n 6   wind_speed   4143 non-null   float64\n 7   temp         4143 non-null   float64\n 8   hour         4143 non-null   int32  \n 9   day_of_week  4143 non-null   int32  \n 10  month        4143 non-null   int32  \ndtypes: float64(7), int32(3), object(1)\nmemory usage: 339.9+ KB\n",
          "output_type": "stream"
        }
      ]
    },
    {
      "cell_type": "code",
      "source": [
        "tmp_train.isna().sum()"
      ],
      "metadata": {
        "execution": {
          "iopub.status.busy": "2024-09-23T15:34:07.962138Z",
          "iopub.execute_input": "2024-09-23T15:34:07.96331Z",
          "iopub.status.idle": "2024-09-23T15:34:07.972466Z",
          "shell.execute_reply.started": "2024-09-23T15:34:07.96326Z",
          "shell.execute_reply": "2024-09-23T15:34:07.97131Z"
        },
        "trusted": true,
        "id": "CulnEhoioGup",
        "outputId": "deb084ea-e6ed-4038-f70c-219df74b83e9"
      },
      "execution_count": null,
      "outputs": [
        {
          "execution_count": 21,
          "output_type": "execute_result",
          "data": {
            "text/plain": "mac            0\nhumid          0\nlight          0\npm10           0\npm2.5          0\nwind_direct    0\nwind_speed     0\ntemp           0\nhour           0\nday_of_week    0\nmonth          0\ndtype: int64"
          },
          "metadata": {}
        }
      ]
    },
    {
      "cell_type": "code",
      "source": [
        "tmp_train.info()"
      ],
      "metadata": {
        "execution": {
          "iopub.status.busy": "2024-09-23T15:34:08.828494Z",
          "iopub.execute_input": "2024-09-23T15:34:08.828931Z",
          "iopub.status.idle": "2024-09-23T15:34:08.842138Z",
          "shell.execute_reply.started": "2024-09-23T15:34:08.828891Z",
          "shell.execute_reply": "2024-09-23T15:34:08.840459Z"
        },
        "trusted": true,
        "id": "c4b6cOCZoGup",
        "outputId": "485922cf-a91d-4346-be8d-c15c8536ba7f"
      },
      "execution_count": null,
      "outputs": [
        {
          "name": "stdout",
          "text": "<class 'pandas.core.frame.DataFrame'>\nIndex: 4143 entries, 0 to 9542\nData columns (total 11 columns):\n #   Column       Non-Null Count  Dtype  \n---  ------       --------------  -----  \n 0   mac          4143 non-null   object \n 1   humid        4143 non-null   float64\n 2   light        4143 non-null   float64\n 3   pm10         4143 non-null   float64\n 4   pm2.5        4143 non-null   float64\n 5   wind_direct  4143 non-null   float64\n 6   wind_speed   4143 non-null   float64\n 7   temp         4143 non-null   float64\n 8   hour         4143 non-null   int32  \n 9   day_of_week  4143 non-null   int32  \n 10  month        4143 non-null   int32  \ndtypes: float64(7), int32(3), object(1)\nmemory usage: 339.9+ KB\n",
          "output_type": "stream"
        }
      ]
    },
    {
      "cell_type": "code",
      "source": [
        "dummies = pd.get_dummies(tmp_train['mac'], prefix='mac')\n",
        "tmp_train = pd.concat([tmp_train, dummies], axis=1)\n",
        "tmp_train.drop(columns=['mac'], inplace=True)"
      ],
      "metadata": {
        "execution": {
          "iopub.status.busy": "2024-09-23T15:34:10.028759Z",
          "iopub.execute_input": "2024-09-23T15:34:10.029249Z",
          "iopub.status.idle": "2024-09-23T15:34:10.041075Z",
          "shell.execute_reply.started": "2024-09-23T15:34:10.029205Z",
          "shell.execute_reply": "2024-09-23T15:34:10.039788Z"
        },
        "trusted": true,
        "id": "_uvH5K63oGup"
      },
      "execution_count": null,
      "outputs": []
    },
    {
      "cell_type": "code",
      "source": [
        "bool_cols = tmp_train.select_dtypes(include='bool')\n",
        "tmp_train[bool_cols.columns] = bool_cols.astype(int)"
      ],
      "metadata": {
        "execution": {
          "iopub.status.busy": "2024-09-23T15:34:10.745345Z",
          "iopub.execute_input": "2024-09-23T15:34:10.746723Z",
          "iopub.status.idle": "2024-09-23T15:34:10.756186Z",
          "shell.execute_reply.started": "2024-09-23T15:34:10.746672Z",
          "shell.execute_reply": "2024-09-23T15:34:10.754871Z"
        },
        "trusted": true,
        "id": "c-A7YLyboGup"
      },
      "execution_count": null,
      "outputs": []
    },
    {
      "cell_type": "code",
      "source": [
        "tmp_train.head()"
      ],
      "metadata": {
        "execution": {
          "iopub.status.busy": "2024-09-23T15:34:11.614564Z",
          "iopub.execute_input": "2024-09-23T15:34:11.614996Z",
          "iopub.status.idle": "2024-09-23T15:34:11.638749Z",
          "shell.execute_reply.started": "2024-09-23T15:34:11.614953Z",
          "shell.execute_reply": "2024-09-23T15:34:11.637609Z"
        },
        "trusted": true,
        "id": "88kuo7EYoGuq",
        "outputId": "f0bbfcf8-3653-408f-8875-753ff86be507"
      },
      "execution_count": null,
      "outputs": [
        {
          "execution_count": 25,
          "output_type": "execute_result",
          "data": {
            "text/plain": "    humid  light  pm10  pm2.5  wind_direct  wind_speed    temp  hour  \\\nid                                                                     \n0    89.9    5.0   6.0    5.0        180.0         6.1  26.925    19   \n1    80.8    0.0   8.0    7.0        135.0         1.4  27.250     0   \n3    87.1    0.0   6.0    5.0        135.0         0.0  26.500     3   \n4    86.4    3.0   3.0    1.0         22.5         0.0  28.600     4   \n5    59.4    2.0   4.0    2.0         45.0         1.6  27.000    20   \n\n    day_of_week  month  mac_30AEA4F7AE44  mac_3C71BF15DB04  mac_3C71BF164F90  \\\nid                                                                             \n0             4      7                 0                 0                 1   \n1             0      7                 0                 0                 0   \n3             5      6                 0                 0                 0   \n4             3      7                 0                 0                 0   \n5             1      5                 0                 0                 0   \n\n    mac_3C71BF17CDBC  mac_3C71BF18CEA4  mac_3C71BF18EA64  mac_3C71BF1B1E28  \\\nid                                                                           \n0                  0                 0                 0                 0   \n1                  0                 0                 0                 1   \n3                  0                 0                 0                 1   \n4                  0                 0                 0                 0   \n5                  0                 0                 0                 0   \n\n    mac_807D3AF57920  \nid                    \n0                  0  \n1                  0  \n3                  0  \n4                  1  \n5                  1  ",
            "text/html": "<div>\n<style scoped>\n    .dataframe tbody tr th:only-of-type {\n        vertical-align: middle;\n    }\n\n    .dataframe tbody tr th {\n        vertical-align: top;\n    }\n\n    .dataframe thead th {\n        text-align: right;\n    }\n</style>\n<table border=\"1\" class=\"dataframe\">\n  <thead>\n    <tr style=\"text-align: right;\">\n      <th></th>\n      <th>humid</th>\n      <th>light</th>\n      <th>pm10</th>\n      <th>pm2.5</th>\n      <th>wind_direct</th>\n      <th>wind_speed</th>\n      <th>temp</th>\n      <th>hour</th>\n      <th>day_of_week</th>\n      <th>month</th>\n      <th>mac_30AEA4F7AE44</th>\n      <th>mac_3C71BF15DB04</th>\n      <th>mac_3C71BF164F90</th>\n      <th>mac_3C71BF17CDBC</th>\n      <th>mac_3C71BF18CEA4</th>\n      <th>mac_3C71BF18EA64</th>\n      <th>mac_3C71BF1B1E28</th>\n      <th>mac_807D3AF57920</th>\n    </tr>\n    <tr>\n      <th>id</th>\n      <th></th>\n      <th></th>\n      <th></th>\n      <th></th>\n      <th></th>\n      <th></th>\n      <th></th>\n      <th></th>\n      <th></th>\n      <th></th>\n      <th></th>\n      <th></th>\n      <th></th>\n      <th></th>\n      <th></th>\n      <th></th>\n      <th></th>\n      <th></th>\n    </tr>\n  </thead>\n  <tbody>\n    <tr>\n      <th>0</th>\n      <td>89.9</td>\n      <td>5.0</td>\n      <td>6.0</td>\n      <td>5.0</td>\n      <td>180.0</td>\n      <td>6.1</td>\n      <td>26.925</td>\n      <td>19</td>\n      <td>4</td>\n      <td>7</td>\n      <td>0</td>\n      <td>0</td>\n      <td>1</td>\n      <td>0</td>\n      <td>0</td>\n      <td>0</td>\n      <td>0</td>\n      <td>0</td>\n    </tr>\n    <tr>\n      <th>1</th>\n      <td>80.8</td>\n      <td>0.0</td>\n      <td>8.0</td>\n      <td>7.0</td>\n      <td>135.0</td>\n      <td>1.4</td>\n      <td>27.250</td>\n      <td>0</td>\n      <td>0</td>\n      <td>7</td>\n      <td>0</td>\n      <td>0</td>\n      <td>0</td>\n      <td>0</td>\n      <td>0</td>\n      <td>0</td>\n      <td>1</td>\n      <td>0</td>\n    </tr>\n    <tr>\n      <th>3</th>\n      <td>87.1</td>\n      <td>0.0</td>\n      <td>6.0</td>\n      <td>5.0</td>\n      <td>135.0</td>\n      <td>0.0</td>\n      <td>26.500</td>\n      <td>3</td>\n      <td>5</td>\n      <td>6</td>\n      <td>0</td>\n      <td>0</td>\n      <td>0</td>\n      <td>0</td>\n      <td>0</td>\n      <td>0</td>\n      <td>1</td>\n      <td>0</td>\n    </tr>\n    <tr>\n      <th>4</th>\n      <td>86.4</td>\n      <td>3.0</td>\n      <td>3.0</td>\n      <td>1.0</td>\n      <td>22.5</td>\n      <td>0.0</td>\n      <td>28.600</td>\n      <td>4</td>\n      <td>3</td>\n      <td>7</td>\n      <td>0</td>\n      <td>0</td>\n      <td>0</td>\n      <td>0</td>\n      <td>0</td>\n      <td>0</td>\n      <td>0</td>\n      <td>1</td>\n    </tr>\n    <tr>\n      <th>5</th>\n      <td>59.4</td>\n      <td>2.0</td>\n      <td>4.0</td>\n      <td>2.0</td>\n      <td>45.0</td>\n      <td>1.6</td>\n      <td>27.000</td>\n      <td>20</td>\n      <td>1</td>\n      <td>5</td>\n      <td>0</td>\n      <td>0</td>\n      <td>0</td>\n      <td>0</td>\n      <td>0</td>\n      <td>0</td>\n      <td>0</td>\n      <td>1</td>\n    </tr>\n  </tbody>\n</table>\n</div>"
          },
          "metadata": {}
        }
      ]
    },
    {
      "cell_type": "code",
      "source": [
        "df = tmp_train.copy()"
      ],
      "metadata": {
        "execution": {
          "iopub.status.busy": "2024-09-23T15:34:12.493772Z",
          "iopub.execute_input": "2024-09-23T15:34:12.494201Z",
          "iopub.status.idle": "2024-09-23T15:34:12.500767Z",
          "shell.execute_reply.started": "2024-09-23T15:34:12.494135Z",
          "shell.execute_reply": "2024-09-23T15:34:12.499588Z"
        },
        "trusted": true,
        "id": "rbTS1R3roGuq"
      },
      "execution_count": null,
      "outputs": []
    },
    {
      "cell_type": "code",
      "source": [
        "from sklearn.model_selection import train_test_split\n",
        "from sklearn.preprocessing import StandardScaler\n",
        "from sklearn.ensemble import RandomForestRegressor\n",
        "from sklearn.pipeline import Pipeline\n",
        "\n",
        "cols = df.columns.to_list()\n",
        "cols.remove('temp') #Label\n",
        "\n",
        "target_col = 'temp'\n",
        "\n",
        "X = df[cols]\n",
        "y = df[target_col]\n",
        "\n",
        "X_train, X_test, y_train, y_test = train_test_split(X, y, test_size=0.2, random_state=42)"
      ],
      "metadata": {
        "execution": {
          "iopub.status.busy": "2024-09-23T15:34:31.862291Z",
          "iopub.execute_input": "2024-09-23T15:34:31.862703Z",
          "iopub.status.idle": "2024-09-23T15:34:32.272555Z",
          "shell.execute_reply.started": "2024-09-23T15:34:31.862665Z",
          "shell.execute_reply": "2024-09-23T15:34:32.271374Z"
        },
        "trusted": true,
        "id": "3U-rYpACoGuq"
      },
      "execution_count": null,
      "outputs": []
    },
    {
      "cell_type": "code",
      "source": [
        "from sklearn.ensemble import RandomForestRegressor\n",
        "from sklearn.model_selection import RandomizedSearchCV\n",
        "import numpy as np\n",
        "\n",
        "\n",
        "rf = RandomForestRegressor()\n",
        "\n",
        "\n",
        "param_distributions = {\n",
        "    'n_estimators': [int(x) for x in np.linspace(start=100, stop=1000, num=10)],\n",
        "    'max_depth': [int(x) for x in np.linspace(10, 100, num=10)] + [None],\n",
        "    'min_samples_split': [2, 5, 10, 15],\n",
        "    'min_samples_leaf': [1, 2, 4, 6],\n",
        "    'max_features': ['sqrt', 'log2', None],\n",
        "    'bootstrap': [True, False]\n",
        "}\n",
        "\n",
        "\n",
        "random_search_v3 = RandomizedSearchCV(estimator=rf, param_distributions=param_distributions,\n",
        "                                   n_iter=100, cv=3, verbose=2, random_state=42, n_jobs=-1, scoring='neg_root_mean_squared_error')\n",
        "\n",
        "\n",
        "random_search_v3.fit(X_train, y_train)\n",
        "\n",
        "\n",
        "print(\"Best parameters found: \", random_search_v3.best_params_)\n",
        "print(\"Best MSE found: \", -random_search_v3.best_score_)"
      ],
      "metadata": {
        "execution": {
          "iopub.status.busy": "2024-09-23T15:34:33.461271Z",
          "iopub.execute_input": "2024-09-23T15:34:33.461668Z",
          "iopub.status.idle": "2024-09-23T15:41:00.792707Z",
          "shell.execute_reply.started": "2024-09-23T15:34:33.461631Z",
          "shell.execute_reply": "2024-09-23T15:41:00.791057Z"
        },
        "trusted": true,
        "id": "AH5czFfloGuq",
        "outputId": "f763dae6-8c70-45c0-f852-c946a8a47853"
      },
      "execution_count": null,
      "outputs": [
        {
          "name": "stdout",
          "text": "Fitting 3 folds for each of 100 candidates, totalling 300 fits\n[CV] END bootstrap=False, max_depth=50, max_features=sqrt, min_samples_leaf=2, min_samples_split=15, n_estimators=100; total time=   0.6s\n[CV] END bootstrap=True, max_depth=20, max_features=None, min_samples_leaf=2, min_samples_split=10, n_estimators=100; total time=   1.1s\n[CV] END bootstrap=True, max_depth=None, max_features=None, min_samples_leaf=2, min_samples_split=15, n_estimators=200; total time=   2.1s\n[CV] END bootstrap=False, max_depth=10, max_features=None, min_samples_leaf=6, min_samples_split=5, n_estimators=500; total time=   6.8s\n[CV] END bootstrap=True, max_depth=10, max_features=None, min_samples_leaf=6, min_samples_split=10, n_estimators=700; total time=   7.1s\n[CV] END bootstrap=False, max_depth=10, max_features=log2, min_samples_leaf=6, min_samples_split=5, n_estimators=900; total time=   4.5s\n[CV] END bootstrap=False, max_depth=70, max_features=log2, min_samples_leaf=1, min_samples_split=2, n_estimators=300; total time=   2.9s\n[CV] END bootstrap=True, max_depth=40, max_features=log2, min_samples_leaf=4, min_samples_split=2, n_estimators=600; total time=   3.1s\n[CV] END bootstrap=False, max_depth=40, max_features=log2, min_samples_leaf=2, min_samples_split=10, n_estimators=1000; total time=   6.9s\n[CV] END bootstrap=True, max_depth=60, max_features=sqrt, min_samples_leaf=1, min_samples_split=15, n_estimators=400; total time=   2.0s\n[CV] END bootstrap=False, max_depth=10, max_features=sqrt, min_samples_leaf=1, min_samples_split=15, n_estimators=200; total time=   1.0s\n[CV] END bootstrap=True, max_depth=None, max_features=log2, min_samples_leaf=4, min_samples_split=5, n_estimators=200; total time=   1.1s\n[CV] END bootstrap=True, max_depth=30, max_features=log2, min_samples_leaf=2, min_samples_split=10, n_estimators=500; total time=   2.7s\n[CV] END bootstrap=True, max_depth=100, max_features=log2, min_samples_leaf=2, min_samples_split=15, n_estimators=600; total time=   3.0s\n[CV] END bootstrap=False, max_depth=30, max_features=sqrt, min_samples_leaf=6, min_samples_split=15, n_estimators=700; total time=   3.6s\n[CV] END bootstrap=False, max_depth=80, max_features=sqrt, min_samples_leaf=1, min_samples_split=10, n_estimators=700; total time=   4.2s\n[CV] END bootstrap=True, max_depth=60, max_features=sqrt, min_samples_leaf=6, min_samples_split=15, n_estimators=900; total time=   4.2s\n[CV] END bootstrap=False, max_depth=60, max_features=log2, min_samples_leaf=1, min_samples_split=2, n_estimators=1000; total time=  10.0s\n[CV] END bootstrap=True, max_depth=60, max_features=None, min_samples_leaf=1, min_samples_split=10, n_estimators=800; total time=   9.8s\n[CV] END bootstrap=False, max_depth=90, max_features=sqrt, min_samples_leaf=2, min_samples_split=2, n_estimators=800; total time=   5.6s\n[CV] END bootstrap=True, max_depth=10, max_features=log2, min_samples_leaf=1, min_samples_split=10, n_estimators=1000; total time=   4.9s\n[CV] END bootstrap=True, max_depth=10, max_features=log2, min_samples_leaf=1, min_samples_split=10, n_estimators=1000; total time=   4.9s\n[CV] END bootstrap=True, max_depth=60, max_features=None, min_samples_leaf=1, min_samples_split=5, n_estimators=500; total time=   7.3s\n[CV] END bootstrap=True, max_depth=70, max_features=sqrt, min_samples_leaf=6, min_samples_split=2, n_estimators=600; total time=   2.9s\n[CV] END bootstrap=True, max_depth=100, max_features=None, min_samples_leaf=1, min_samples_split=5, n_estimators=900; total time=  13.5s\n[CV] END bootstrap=False, max_depth=60, max_features=sqrt, min_samples_leaf=2, min_samples_split=5, n_estimators=500; total time=   3.3s\n[CV] END bootstrap=True, max_depth=30, max_features=log2, min_samples_leaf=6, min_samples_split=10, n_estimators=800; total time=   3.8s\n[CV] END bootstrap=True, max_depth=30, max_features=log2, min_samples_leaf=6, min_samples_split=10, n_estimators=800; total time=   3.9s\n[CV] END bootstrap=True, max_depth=80, max_features=log2, min_samples_leaf=1, min_samples_split=15, n_estimators=700; total time=   3.8s\n[CV] END bootstrap=True, max_depth=90, max_features=sqrt, min_samples_leaf=2, min_samples_split=5, n_estimators=100; total time=   0.6s\n[CV] END bootstrap=False, max_depth=80, max_features=log2, min_samples_leaf=1, min_samples_split=15, n_estimators=900; total time=   5.1s\n[CV] END bootstrap=False, max_depth=10, max_features=sqrt, min_samples_leaf=4, min_samples_split=15, n_estimators=400; total time=   2.0s\n[CV] END bootstrap=False, max_depth=None, max_features=None, min_samples_leaf=6, min_samples_split=15, n_estimators=600; total time=   8.1s\n[CV] END bootstrap=False, max_depth=70, max_features=log2, min_samples_leaf=4, min_samples_split=15, n_estimators=400; total time=   2.1s\n[CV] END bootstrap=False, max_depth=None, max_features=sqrt, min_samples_leaf=6, min_samples_split=15, n_estimators=400; total time=   2.0s\n[CV] END bootstrap=True, max_depth=60, max_features=log2, min_samples_leaf=2, min_samples_split=5, n_estimators=300; total time=   1.7s\n[CV] END bootstrap=False, max_depth=40, max_features=None, min_samples_leaf=1, min_samples_split=2, n_estimators=200; total time=   4.7s\n[CV] END bootstrap=False, max_depth=90, max_features=None, min_samples_leaf=4, min_samples_split=15, n_estimators=600; total time=   8.9s\n[CV] END bootstrap=False, max_depth=20, max_features=None, min_samples_leaf=6, min_samples_split=15, n_estimators=600; total time=   8.1s\n[CV] END bootstrap=False, max_depth=100, max_features=sqrt, min_samples_leaf=2, min_samples_split=15, n_estimators=100; total time=   0.6s\n[CV] END bootstrap=False, max_depth=100, max_features=sqrt, min_samples_leaf=2, min_samples_split=15, n_estimators=100; total time=   0.6s\n[CV] END bootstrap=False, max_depth=100, max_features=sqrt, min_samples_leaf=2, min_samples_split=15, n_estimators=100; total time=   0.6s\n[CV] END bootstrap=True, max_depth=20, max_features=log2, min_samples_leaf=6, min_samples_split=5, n_estimators=600; total time=   2.8s\n[CV] END bootstrap=True, max_depth=20, max_features=log2, min_samples_leaf=6, min_samples_split=5, n_estimators=600; total time=   2.8s\n[CV] END bootstrap=True, max_depth=20, max_features=log2, min_samples_leaf=6, min_samples_split=5, n_estimators=600; total time=   2.9s\n[CV] END bootstrap=False, max_depth=70, max_features=sqrt, min_samples_leaf=2, min_samples_split=10, n_estimators=700; total time=   4.2s\n[CV] END bootstrap=True, max_depth=70, max_features=log2, min_samples_leaf=4, min_samples_split=15, n_estimators=300; total time=   1.4s\n[CV] END bootstrap=True, max_depth=70, max_features=log2, min_samples_leaf=4, min_samples_split=15, n_estimators=300; total time=   1.4s\n[CV] END bootstrap=True, max_depth=70, max_features=log2, min_samples_leaf=4, min_samples_split=15, n_estimators=300; total time=   1.5s\n[CV] END bootstrap=True, max_depth=40, max_features=sqrt, min_samples_leaf=6, min_samples_split=10, n_estimators=600; total time=   3.7s\n[CV] END bootstrap=True, max_depth=40, max_features=sqrt, min_samples_leaf=6, min_samples_split=10, n_estimators=600; total time=   2.9s\n[CV] END bootstrap=True, max_depth=90, max_features=sqrt, min_samples_leaf=4, min_samples_split=10, n_estimators=400; total time=   2.0s\n[CV] END bootstrap=True, max_depth=70, max_features=log2, min_samples_leaf=1, min_samples_split=15, n_estimators=400; total time=   2.0s\n[CV] END bootstrap=True, max_depth=70, max_features=log2, min_samples_leaf=1, min_samples_split=15, n_estimators=400; total time=   2.0s\n[CV] END bootstrap=True, max_depth=70, max_features=log2, min_samples_leaf=1, min_samples_split=15, n_estimators=400; total time=   2.0s\n[CV] END bootstrap=True, max_depth=30, max_features=sqrt, min_samples_leaf=2, min_samples_split=10, n_estimators=200; total time=   1.1s\n[CV] END bootstrap=True, max_depth=30, max_features=sqrt, min_samples_leaf=2, min_samples_split=10, n_estimators=200; total time=   1.1s\n[CV] END bootstrap=False, max_depth=60, max_features=log2, min_samples_leaf=6, min_samples_split=10, n_estimators=1000; total time=   5.5s\n[CV] END bootstrap=False, max_depth=100, max_features=sqrt, min_samples_leaf=4, min_samples_split=5, n_estimators=300; total time=   1.8s\n[CV] END bootstrap=False, max_depth=50, max_features=sqrt, min_samples_leaf=2, min_samples_split=15, n_estimators=100; total time=   0.6s\n[CV] END bootstrap=False, max_depth=10, max_features=sqrt, min_samples_leaf=4, min_samples_split=15, n_estimators=100; total time=   0.5s\n[CV] END bootstrap=False, max_depth=10, max_features=sqrt, min_samples_leaf=4, min_samples_split=15, n_estimators=100; total time=   0.5s\n[CV] END bootstrap=True, max_depth=None, max_features=None, min_samples_leaf=2, min_samples_split=15, n_estimators=200; total time=   2.2s\n[CV] END bootstrap=False, max_depth=10, max_features=None, min_samples_leaf=6, min_samples_split=5, n_estimators=500; total time=   6.8s\n[CV] END bootstrap=True, max_depth=10, max_features=None, min_samples_leaf=6, min_samples_split=10, n_estimators=700; total time=   7.0s\n[CV] END bootstrap=True, max_depth=100, max_features=sqrt, min_samples_leaf=4, min_samples_split=10, n_estimators=700; total time=   3.5s\n[CV] END bootstrap=False, max_depth=70, max_features=log2, min_samples_leaf=1, min_samples_split=2, n_estimators=300; total time=   2.8s\n[CV] END bootstrap=True, max_depth=40, max_features=log2, min_samples_leaf=4, min_samples_split=2, n_estimators=600; total time=   3.1s\n[CV] END bootstrap=True, max_depth=20, max_features=log2, min_samples_leaf=6, min_samples_split=2, n_estimators=1000; total time=   5.1s\n[CV] END bootstrap=True, max_depth=60, max_features=sqrt, min_samples_leaf=1, min_samples_split=15, n_estimators=400; total time=   2.0s\n[CV] END bootstrap=True, max_depth=60, max_features=sqrt, min_samples_leaf=1, min_samples_split=15, n_estimators=400; total time=   2.1s\n[CV] END bootstrap=False, max_depth=10, max_features=sqrt, min_samples_leaf=1, min_samples_split=15, n_estimators=200; total time=   1.0s\n[CV] END bootstrap=True, max_depth=None, max_features=log2, min_samples_leaf=4, min_samples_split=5, n_estimators=200; total time=   1.0s\n[CV] END bootstrap=False, max_depth=30, max_features=log2, min_samples_leaf=1, min_samples_split=10, n_estimators=100; total time=   0.6s\n[CV] END bootstrap=True, max_depth=30, max_features=log2, min_samples_leaf=2, min_samples_split=10, n_estimators=500; total time=   2.6s\n[CV] END bootstrap=True, max_depth=100, max_features=log2, min_samples_leaf=2, min_samples_split=15, n_estimators=600; total time=   3.0s\n[CV] END bootstrap=True, max_depth=80, max_features=sqrt, min_samples_leaf=1, min_samples_split=10, n_estimators=600; total time=   3.2s\n[CV] END bootstrap=False, max_depth=80, max_features=sqrt, min_samples_leaf=1, min_samples_split=10, n_estimators=700; total time=   4.2s\n[CV] END bootstrap=False, max_depth=90, max_features=sqrt, min_samples_leaf=6, min_samples_split=15, n_estimators=500; total time=   2.6s\n[CV] END bootstrap=True, max_depth=60, max_features=sqrt, min_samples_leaf=6, min_samples_split=15, n_estimators=900; total time=   4.2s\n[CV] END bootstrap=True, max_depth=50, max_features=sqrt, min_samples_leaf=6, min_samples_split=2, n_estimators=800; total time=   4.3s\n[CV] END bootstrap=True, max_depth=50, max_features=sqrt, min_samples_leaf=6, min_samples_split=2, n_estimators=800; total time=   5.1s\n[CV] END bootstrap=True, max_depth=60, max_features=None, min_samples_leaf=1, min_samples_split=10, n_estimators=800; total time=   9.8s\n[CV] END bootstrap=False, max_depth=100, max_features=None, min_samples_leaf=2, min_samples_split=15, n_estimators=900; total time=  13.2s\n[CV] END bootstrap=True, max_depth=10, max_features=log2, min_samples_leaf=1, min_samples_split=10, n_estimators=1000; total time=   5.4s\n[CV] END bootstrap=True, max_depth=70, max_features=sqrt, min_samples_leaf=6, min_samples_split=2, n_estimators=600; total time=   3.3s\n[CV] END bootstrap=True, max_depth=100, max_features=None, min_samples_leaf=1, min_samples_split=5, n_estimators=900; total time=  12.9s\n[CV] END bootstrap=True, max_depth=40, max_features=None, min_samples_leaf=6, min_samples_split=5, n_estimators=1000; total time=  10.2s\n[CV] END bootstrap=True, max_depth=40, max_features=sqrt, min_samples_leaf=4, min_samples_split=2, n_estimators=900; total time=   4.7s\n[CV] END bootstrap=True, max_depth=80, max_features=log2, min_samples_leaf=1, min_samples_split=15, n_estimators=700; total time=   4.1s\n[CV] END bootstrap=False, max_depth=80, max_features=log2, min_samples_leaf=1, min_samples_split=15, n_estimators=900; total time=   5.1s\n[CV] END bootstrap=False, max_depth=80, max_features=sqrt, min_samples_leaf=6, min_samples_split=15, n_estimators=300; total time=   1.6s\n[CV] END bootstrap=False, max_depth=None, max_features=log2, min_samples_leaf=1, min_samples_split=5, n_estimators=400; total time=   2.9s\n[CV] END bootstrap=False, max_depth=None, max_features=log2, min_samples_leaf=1, min_samples_split=5, n_estimators=400; total time=   2.9s\n[CV] END bootstrap=False, max_depth=None, max_features=log2, min_samples_leaf=1, min_samples_split=5, n_estimators=400; total time=   3.0s\n[CV] END bootstrap=False, max_depth=None, max_features=sqrt, min_samples_leaf=6, min_samples_split=15, n_estimators=400; total time=   2.1s\n[CV] END bootstrap=False, max_depth=50, max_features=log2, min_samples_leaf=6, min_samples_split=15, n_estimators=400; total time=   2.1s\n[CV] END bootstrap=True, max_depth=60, max_features=log2, min_samples_leaf=2, min_samples_split=5, n_estimators=300; total time=   1.7s\n[CV] END bootstrap=False, max_depth=90, max_features=None, min_samples_leaf=4, min_samples_split=15, n_estimators=600; total time=   8.6s\n[CV] END bootstrap=False, max_depth=20, max_features=None, min_samples_leaf=6, min_samples_split=15, n_estimators=600; total time=   8.3s\n[CV] END bootstrap=False, max_depth=10, max_features=log2, min_samples_leaf=2, min_samples_split=2, n_estimators=700; total time=   3.9s\n[CV] END bootstrap=False, max_depth=40, max_features=None, min_samples_leaf=2, min_samples_split=5, n_estimators=1000; total time=  18.3s\n[CV] END bootstrap=False, max_depth=None, max_features=sqrt, min_samples_leaf=2, min_samples_split=10, n_estimators=800; total time=   5.3s\n[CV] END bootstrap=True, max_depth=90, max_features=sqrt, min_samples_leaf=4, min_samples_split=10, n_estimators=400; total time=   2.0s\n[CV] END bootstrap=False, max_depth=50, max_features=None, min_samples_leaf=1, min_samples_split=15, n_estimators=600; total time=   9.1s\n[CV] END bootstrap=True, max_depth=30, max_features=sqrt, min_samples_leaf=2, min_samples_split=10, n_estimators=200; total time=   1.1s\n[CV] END bootstrap=True, max_depth=90, max_features=sqrt, min_samples_leaf=1, min_samples_split=2, n_estimators=400; total time=   3.0s\n[CV] END bootstrap=False, max_depth=100, max_features=sqrt, min_samples_leaf=4, min_samples_split=5, n_estimators=300; total time=   1.8s\n[CV] END bootstrap=False, max_depth=100, max_features=sqrt, min_samples_leaf=4, min_samples_split=5, n_estimators=300; total time=   1.7s\n[CV] END bootstrap=False, max_depth=40, max_features=sqrt, min_samples_leaf=6, min_samples_split=15, n_estimators=400; total time=   2.1s\n[CV] END bootstrap=False, max_depth=10, max_features=None, min_samples_leaf=2, min_samples_split=15, n_estimators=600; total time=   8.1s\n[CV] END bootstrap=True, max_depth=90, max_features=None, min_samples_leaf=6, min_samples_split=5, n_estimators=800; total time=   8.6s\n[CV] END bootstrap=False, max_depth=50, max_features=None, min_samples_leaf=4, min_samples_split=10, n_estimators=1000; total time=  15.0s\n[CV] END bootstrap=False, max_depth=90, max_features=None, min_samples_leaf=1, min_samples_split=10, n_estimators=800; total time=  13.1s\n[CV] END bootstrap=False, max_depth=30, max_features=log2, min_samples_leaf=1, min_samples_split=15, n_estimators=1000; total time=   5.7s\n[CV] END bootstrap=False, max_depth=60, max_features=log2, min_samples_leaf=2, min_samples_split=5, n_estimators=300; total time=   2.0s\n[CV] END bootstrap=False, max_depth=40, max_features=sqrt, min_samples_leaf=6, min_samples_split=10, n_estimators=400; total time=   2.1s\n[CV] END bootstrap=False, max_depth=60, max_features=log2, min_samples_leaf=2, min_samples_split=15, n_estimators=700; total time=   3.9s\n[CV] END bootstrap=False, max_depth=50, max_features=sqrt, min_samples_leaf=2, min_samples_split=15, n_estimators=100; total time=   0.6s\n[CV] END bootstrap=True, max_depth=20, max_features=None, min_samples_leaf=2, min_samples_split=10, n_estimators=100; total time=   1.2s\n[CV] END bootstrap=True, max_depth=None, max_features=None, min_samples_leaf=2, min_samples_split=15, n_estimators=200; total time=   2.2s\n[CV] END bootstrap=False, max_depth=30, max_features=sqrt, min_samples_leaf=1, min_samples_split=10, n_estimators=600; total time=   4.0s\n[CV] END bootstrap=False, max_depth=30, max_features=sqrt, min_samples_leaf=1, min_samples_split=10, n_estimators=600; total time=   3.7s\n[CV] END bootstrap=True, max_depth=10, max_features=None, min_samples_leaf=6, min_samples_split=10, n_estimators=700; total time=   6.9s\n[CV] END bootstrap=False, max_depth=10, max_features=log2, min_samples_leaf=6, min_samples_split=5, n_estimators=900; total time=   4.4s\n[CV] END bootstrap=False, max_depth=70, max_features=log2, min_samples_leaf=1, min_samples_split=2, n_estimators=300; total time=   2.8s\n[CV] END bootstrap=True, max_depth=20, max_features=log2, min_samples_leaf=6, min_samples_split=2, n_estimators=1000; total time=   5.1s\n[CV] END bootstrap=False, max_depth=40, max_features=log2, min_samples_leaf=2, min_samples_split=10, n_estimators=1000; total time=   6.3s\n[CV] END bootstrap=False, max_depth=10, max_features=sqrt, min_samples_leaf=1, min_samples_split=15, n_estimators=200; total time=   1.0s\n[CV] END bootstrap=False, max_depth=30, max_features=log2, min_samples_leaf=1, min_samples_split=10, n_estimators=100; total time=   0.6s\n[CV] END bootstrap=False, max_depth=30, max_features=log2, min_samples_leaf=1, min_samples_split=10, n_estimators=100; total time=   0.6s\n[CV] END bootstrap=True, max_depth=100, max_features=log2, min_samples_leaf=2, min_samples_split=15, n_estimators=600; total time=   2.9s\n[CV] END bootstrap=True, max_depth=80, max_features=sqrt, min_samples_leaf=1, min_samples_split=10, n_estimators=600; total time=   3.3s\n[CV] END bootstrap=False, max_depth=30, max_features=sqrt, min_samples_leaf=6, min_samples_split=15, n_estimators=700; total time=   3.6s\n[CV] END bootstrap=False, max_depth=90, max_features=sqrt, min_samples_leaf=6, min_samples_split=15, n_estimators=500; total time=   2.6s\n[CV] END bootstrap=False, max_depth=90, max_features=sqrt, min_samples_leaf=6, min_samples_split=15, n_estimators=500; total time=   2.6s\n[CV] END bootstrap=False, max_depth=60, max_features=log2, min_samples_leaf=1, min_samples_split=2, n_estimators=1000; total time=  11.0s\n[CV] END bootstrap=True, max_depth=50, max_features=sqrt, min_samples_leaf=6, min_samples_split=2, n_estimators=800; total time=   3.9s\n[CV] END bootstrap=False, max_depth=90, max_features=sqrt, min_samples_leaf=2, min_samples_split=2, n_estimators=800; total time=   5.8s\n[CV] END bootstrap=False, max_depth=90, max_features=sqrt, min_samples_leaf=2, min_samples_split=2, n_estimators=800; total time=   5.6s\n[CV] END bootstrap=False, max_depth=100, max_features=None, min_samples_leaf=2, min_samples_split=15, n_estimators=900; total time=  13.0s\n[CV] END bootstrap=True, max_depth=60, max_features=None, min_samples_leaf=1, min_samples_split=5, n_estimators=500; total time=   7.7s\n[CV] END bootstrap=True, max_depth=100, max_features=None, min_samples_leaf=1, min_samples_split=5, n_estimators=900; total time=  13.0s\n[CV] END bootstrap=False, max_depth=60, max_features=sqrt, min_samples_leaf=2, min_samples_split=5, n_estimators=500; total time=   3.3s\n[CV] END bootstrap=False, max_depth=60, max_features=sqrt, min_samples_leaf=2, min_samples_split=5, n_estimators=500; total time=   3.4s\n[CV] END bootstrap=True, max_depth=30, max_features=log2, min_samples_leaf=6, min_samples_split=10, n_estimators=800; total time=   3.8s\n[CV] END bootstrap=True, max_depth=40, max_features=sqrt, min_samples_leaf=4, min_samples_split=2, n_estimators=900; total time=   5.1s\n[CV] END bootstrap=True, max_depth=90, max_features=sqrt, min_samples_leaf=2, min_samples_split=5, n_estimators=100; total time=   0.7s\n[CV] END bootstrap=True, max_depth=90, max_features=sqrt, min_samples_leaf=2, min_samples_split=5, n_estimators=100; total time=   0.6s\n[CV] END bootstrap=False, max_depth=80, max_features=log2, min_samples_leaf=1, min_samples_split=15, n_estimators=900; total time=   5.1s\n[CV] END bootstrap=False, max_depth=80, max_features=sqrt, min_samples_leaf=6, min_samples_split=15, n_estimators=300; total time=   1.6s\n[CV] END bootstrap=False, max_depth=None, max_features=None, min_samples_leaf=6, min_samples_split=15, n_estimators=600; total time=   8.3s\n[CV] END bootstrap=False, max_depth=70, max_features=log2, min_samples_leaf=4, min_samples_split=15, n_estimators=400; total time=   2.1s\n[CV] END bootstrap=False, max_depth=50, max_features=log2, min_samples_leaf=6, min_samples_split=15, n_estimators=400; total time=   2.0s\n[CV] END bootstrap=True, max_depth=60, max_features=log2, min_samples_leaf=2, min_samples_split=5, n_estimators=300; total time=   1.7s\n[CV] END bootstrap=False, max_depth=40, max_features=None, min_samples_leaf=1, min_samples_split=2, n_estimators=200; total time=   4.7s\n[CV] END bootstrap=False, max_depth=20, max_features=None, min_samples_leaf=6, min_samples_split=15, n_estimators=600; total time=   8.9s\n[CV] END bootstrap=False, max_depth=10, max_features=log2, min_samples_leaf=2, min_samples_split=2, n_estimators=700; total time=   3.8s\n[CV] END bootstrap=False, max_depth=40, max_features=None, min_samples_leaf=2, min_samples_split=5, n_estimators=1000; total time=  18.0s\n[CV] END bootstrap=False, max_depth=70, max_features=sqrt, min_samples_leaf=2, min_samples_split=10, n_estimators=700; total time=   4.1s\n[CV] END bootstrap=False, max_depth=None, max_features=sqrt, min_samples_leaf=2, min_samples_split=10, n_estimators=800; total time=   5.1s\n[CV] END bootstrap=True, max_depth=40, max_features=sqrt, min_samples_leaf=6, min_samples_split=10, n_estimators=600; total time=   2.8s\n[CV] END bootstrap=False, max_depth=50, max_features=None, min_samples_leaf=1, min_samples_split=15, n_estimators=600; total time=   8.8s\n[CV] END bootstrap=True, max_depth=90, max_features=sqrt, min_samples_leaf=1, min_samples_split=2, n_estimators=400; total time=   3.0s\n[CV] END bootstrap=False, max_depth=60, max_features=log2, min_samples_leaf=6, min_samples_split=10, n_estimators=1000; total time=   5.4s\n[CV] END bootstrap=False, max_depth=10, max_features=None, min_samples_leaf=2, min_samples_split=15, n_estimators=600; total time=   8.2s\n[CV] END bootstrap=True, max_depth=90, max_features=None, min_samples_leaf=6, min_samples_split=5, n_estimators=800; total time=   8.9s\n[CV] END bootstrap=True, max_depth=30, max_features=sqrt, min_samples_leaf=1, min_samples_split=15, n_estimators=600; total time=   3.0s\n[CV] END bootstrap=False, max_depth=90, max_features=None, min_samples_leaf=1, min_samples_split=10, n_estimators=800; total time=  13.5s\n[CV] END bootstrap=True, max_depth=30, max_features=sqrt, min_samples_leaf=2, min_samples_split=5, n_estimators=700; total time=   4.1s\n[CV] END bootstrap=True, max_depth=30, max_features=sqrt, min_samples_leaf=2, min_samples_split=5, n_estimators=700; total time=   4.0s\n[CV] END bootstrap=False, max_depth=60, max_features=log2, min_samples_leaf=1, min_samples_split=10, n_estimators=1000; total time=   6.8s\n[CV] END bootstrap=False, max_depth=30, max_features=log2, min_samples_leaf=1, min_samples_split=15, n_estimators=1000; total time=   5.6s\n[CV] END bootstrap=False, max_depth=40, max_features=sqrt, min_samples_leaf=6, min_samples_split=10, n_estimators=400; total time=   2.1s\n[CV] END bootstrap=False, max_depth=70, max_features=None, min_samples_leaf=2, min_samples_split=2, n_estimators=1000; total time=  18.7s\n[CV] END bootstrap=True, max_depth=20, max_features=None, min_samples_leaf=2, min_samples_split=15, n_estimators=900; total time=   9.9s\n[CV] END bootstrap=True, max_depth=None, max_features=sqrt, min_samples_leaf=4, min_samples_split=2, n_estimators=800; total time=   4.2s\n[CV] END bootstrap=True, max_depth=20, max_features=None, min_samples_leaf=2, min_samples_split=10, n_estimators=100; total time=   1.2s\n[CV] END bootstrap=False, max_depth=10, max_features=sqrt, min_samples_leaf=4, min_samples_split=15, n_estimators=100; total time=   0.5s\n[CV] END bootstrap=False, max_depth=10, max_features=None, min_samples_leaf=6, min_samples_split=5, n_estimators=500; total time=   6.9s\n[CV] END bootstrap=False, max_depth=30, max_features=sqrt, min_samples_leaf=1, min_samples_split=10, n_estimators=600; total time=   3.7s\n[CV] END bootstrap=True, max_depth=100, max_features=sqrt, min_samples_leaf=4, min_samples_split=10, n_estimators=700; total time=   3.5s\n[CV] END bootstrap=True, max_depth=100, max_features=sqrt, min_samples_leaf=4, min_samples_split=10, n_estimators=700; total time=   3.4s\n[CV] END bootstrap=False, max_depth=10, max_features=log2, min_samples_leaf=6, min_samples_split=5, n_estimators=900; total time=   4.4s\n[CV] END bootstrap=True, max_depth=40, max_features=log2, min_samples_leaf=4, min_samples_split=2, n_estimators=600; total time=   3.1s\n[CV] END bootstrap=True, max_depth=20, max_features=log2, min_samples_leaf=6, min_samples_split=2, n_estimators=1000; total time=   4.9s\n[CV] END bootstrap=False, max_depth=40, max_features=log2, min_samples_leaf=2, min_samples_split=10, n_estimators=1000; total time=   6.3s\n[CV] END bootstrap=True, max_depth=None, max_features=log2, min_samples_leaf=4, min_samples_split=5, n_estimators=200; total time=   1.1s\n[CV] END bootstrap=True, max_depth=30, max_features=log2, min_samples_leaf=2, min_samples_split=10, n_estimators=500; total time=   2.7s\n[CV] END bootstrap=True, max_depth=80, max_features=sqrt, min_samples_leaf=1, min_samples_split=10, n_estimators=600; total time=   3.3s\n[CV] END bootstrap=False, max_depth=30, max_features=sqrt, min_samples_leaf=6, min_samples_split=15, n_estimators=700; total time=   3.7s\n[CV] END bootstrap=False, max_depth=80, max_features=sqrt, min_samples_leaf=1, min_samples_split=10, n_estimators=700; total time=   4.3s\n[CV] END bootstrap=True, max_depth=60, max_features=sqrt, min_samples_leaf=6, min_samples_split=15, n_estimators=900; total time=   4.2s\n[CV] END bootstrap=False, max_depth=60, max_features=log2, min_samples_leaf=1, min_samples_split=2, n_estimators=1000; total time=  10.9s\n[CV] END bootstrap=True, max_depth=60, max_features=None, min_samples_leaf=1, min_samples_split=10, n_estimators=800; total time=  10.1s\n[CV] END bootstrap=False, max_depth=100, max_features=None, min_samples_leaf=2, min_samples_split=15, n_estimators=900; total time=  13.2s\n[CV] END bootstrap=True, max_depth=60, max_features=None, min_samples_leaf=1, min_samples_split=5, n_estimators=500; total time=   7.9s\n[CV] END bootstrap=True, max_depth=70, max_features=sqrt, min_samples_leaf=6, min_samples_split=2, n_estimators=600; total time=   2.9s\n[CV] END bootstrap=True, max_depth=40, max_features=None, min_samples_leaf=6, min_samples_split=5, n_estimators=1000; total time=  10.7s\n[CV] END bootstrap=True, max_depth=40, max_features=None, min_samples_leaf=6, min_samples_split=5, n_estimators=1000; total time=  10.3s\n[CV] END bootstrap=True, max_depth=40, max_features=sqrt, min_samples_leaf=4, min_samples_split=2, n_estimators=900; total time=   4.7s\n[CV] END bootstrap=True, max_depth=80, max_features=log2, min_samples_leaf=1, min_samples_split=15, n_estimators=700; total time=   4.4s\n[CV] END bootstrap=False, max_depth=10, max_features=sqrt, min_samples_leaf=4, min_samples_split=15, n_estimators=400; total time=   2.0s\n[CV] END bootstrap=False, max_depth=10, max_features=sqrt, min_samples_leaf=4, min_samples_split=15, n_estimators=400; total time=   2.0s\n[CV] END bootstrap=False, max_depth=80, max_features=sqrt, min_samples_leaf=6, min_samples_split=15, n_estimators=300; total time=   1.6s\n[CV] END bootstrap=False, max_depth=None, max_features=None, min_samples_leaf=6, min_samples_split=15, n_estimators=600; total time=   8.1s\n[CV] END bootstrap=False, max_depth=70, max_features=log2, min_samples_leaf=4, min_samples_split=15, n_estimators=400; total time=   2.1s\n[CV] END bootstrap=False, max_depth=None, max_features=sqrt, min_samples_leaf=6, min_samples_split=15, n_estimators=400; total time=   2.1s\n[CV] END bootstrap=False, max_depth=50, max_features=log2, min_samples_leaf=6, min_samples_split=15, n_estimators=400; total time=   2.1s\n[CV] END bootstrap=False, max_depth=40, max_features=None, min_samples_leaf=1, min_samples_split=2, n_estimators=200; total time=   4.6s\n[CV] END bootstrap=False, max_depth=90, max_features=None, min_samples_leaf=4, min_samples_split=15, n_estimators=600; total time=   9.3s\n[CV] END bootstrap=False, max_depth=10, max_features=log2, min_samples_leaf=2, min_samples_split=2, n_estimators=700; total time=   3.8s\n[CV] END bootstrap=False, max_depth=40, max_features=None, min_samples_leaf=2, min_samples_split=5, n_estimators=1000; total time=  18.0s\n[CV] END bootstrap=False, max_depth=70, max_features=sqrt, min_samples_leaf=2, min_samples_split=10, n_estimators=700; total time=   4.1s\n[CV] END bootstrap=False, max_depth=None, max_features=sqrt, min_samples_leaf=2, min_samples_split=10, n_estimators=800; total time=   5.6s\n[CV] END bootstrap=True, max_depth=90, max_features=sqrt, min_samples_leaf=4, min_samples_split=10, n_estimators=400; total time=   2.0s\n[CV] END bootstrap=False, max_depth=50, max_features=None, min_samples_leaf=1, min_samples_split=15, n_estimators=600; total time=   9.0s\n[CV] END bootstrap=True, max_depth=90, max_features=sqrt, min_samples_leaf=1, min_samples_split=2, n_estimators=400; total time=   3.0s\n[CV] END bootstrap=False, max_depth=60, max_features=log2, min_samples_leaf=6, min_samples_split=10, n_estimators=1000; total time=   5.4s\n[CV] END bootstrap=False, max_depth=40, max_features=sqrt, min_samples_leaf=6, min_samples_split=15, n_estimators=400; total time=   2.1s\n[CV] END bootstrap=True, max_depth=10, max_features=log2, min_samples_leaf=1, min_samples_split=2, n_estimators=200; total time=   1.1s\n[CV] END bootstrap=True, max_depth=10, max_features=log2, min_samples_leaf=1, min_samples_split=2, n_estimators=200; total time=   1.1s\n[CV] END bootstrap=True, max_depth=10, max_features=log2, min_samples_leaf=1, min_samples_split=2, n_estimators=200; total time=   1.1s\n[CV] END bootstrap=True, max_depth=90, max_features=None, min_samples_leaf=6, min_samples_split=5, n_estimators=800; total time=   8.6s\n[CV] END bootstrap=False, max_depth=None, max_features=sqrt, min_samples_leaf=4, min_samples_split=5, n_estimators=400; total time=   2.3s\n[CV] END bootstrap=True, max_depth=30, max_features=sqrt, min_samples_leaf=1, min_samples_split=15, n_estimators=600; total time=   3.0s\n[CV] END bootstrap=False, max_depth=50, max_features=None, min_samples_leaf=4, min_samples_split=10, n_estimators=1000; total time=  15.1s\n[CV] END bootstrap=True, max_depth=30, max_features=sqrt, min_samples_leaf=2, min_samples_split=5, n_estimators=700; total time=   4.0s\n[CV] END bootstrap=False, max_depth=60, max_features=log2, min_samples_leaf=1, min_samples_split=10, n_estimators=1000; total time=   7.0s\n[CV] END bootstrap=False, max_depth=60, max_features=log2, min_samples_leaf=1, min_samples_split=10, n_estimators=1000; total time=   6.2s\n[CV] END bootstrap=False, max_depth=60, max_features=log2, min_samples_leaf=2, min_samples_split=5, n_estimators=300; total time=   2.0s\n[CV] END bootstrap=False, max_depth=40, max_features=sqrt, min_samples_leaf=6, min_samples_split=10, n_estimators=400; total time=   2.1s\n[CV] END bootstrap=False, max_depth=60, max_features=log2, min_samples_leaf=2, min_samples_split=15, n_estimators=700; total time=   3.9s\n[CV] END bootstrap=True, max_depth=20, max_features=None, min_samples_leaf=2, min_samples_split=15, n_estimators=900; total time=   9.8s\n[CV] END bootstrap=True, max_depth=20, max_features=None, min_samples_leaf=2, min_samples_split=15, n_estimators=900; total time=  10.7s\n[CV] END bootstrap=False, max_depth=90, max_features=sqrt, min_samples_leaf=6, min_samples_split=10, n_estimators=900; total time=   4.7s\nBest parameters found:  {'n_estimators': 900, 'min_samples_split': 2, 'min_samples_leaf': 1, 'max_features': 'sqrt', 'max_depth': 50, 'bootstrap': False}\nBest MSE found:  1.100291701696112\n",
          "output_type": "stream"
        }
      ]
    },
    {
      "cell_type": "code",
      "source": [
        "test_df = pd.read_csv('/kaggle/input/temperature-forecasting-for-localized-weather-stat/test.csv')"
      ],
      "metadata": {
        "execution": {
          "iopub.status.busy": "2024-09-23T15:49:05.001598Z",
          "iopub.execute_input": "2024-09-23T15:49:05.002033Z",
          "iopub.status.idle": "2024-09-23T15:49:05.041585Z",
          "shell.execute_reply.started": "2024-09-23T15:49:05.001985Z",
          "shell.execute_reply": "2024-09-23T15:49:05.040381Z"
        },
        "trusted": true,
        "id": "bwknMf8JoGuq"
      },
      "execution_count": null,
      "outputs": []
    },
    {
      "cell_type": "code",
      "source": [
        "pm_df = test_df.copy()"
      ],
      "metadata": {
        "execution": {
          "iopub.status.busy": "2024-09-23T15:49:06.282171Z",
          "iopub.execute_input": "2024-09-23T15:49:06.283219Z",
          "iopub.status.idle": "2024-09-23T15:49:06.288546Z",
          "shell.execute_reply.started": "2024-09-23T15:49:06.283165Z",
          "shell.execute_reply": "2024-09-23T15:49:06.287238Z"
        },
        "trusted": true,
        "id": "v7PGX8wZoGuq"
      },
      "execution_count": null,
      "outputs": []
    },
    {
      "cell_type": "code",
      "source": [
        "pm_df.index = pm_df['id']\n",
        "pm_df = pm_df.drop(['id'], axis=1)"
      ],
      "metadata": {
        "execution": {
          "iopub.status.busy": "2024-09-23T15:49:06.936803Z",
          "iopub.execute_input": "2024-09-23T15:49:06.937213Z",
          "iopub.status.idle": "2024-09-23T15:49:06.945135Z",
          "shell.execute_reply.started": "2024-09-23T15:49:06.937174Z",
          "shell.execute_reply": "2024-09-23T15:49:06.943644Z"
        },
        "trusted": true,
        "id": "StogylhYoGuq"
      },
      "execution_count": null,
      "outputs": []
    },
    {
      "cell_type": "code",
      "source": [
        "pm_df.head()"
      ],
      "metadata": {
        "execution": {
          "iopub.status.busy": "2024-09-23T15:49:08.084444Z",
          "iopub.execute_input": "2024-09-23T15:49:08.084954Z",
          "iopub.status.idle": "2024-09-23T15:49:08.109429Z",
          "shell.execute_reply.started": "2024-09-23T15:49:08.084907Z",
          "shell.execute_reply": "2024-09-23T15:49:08.107951Z"
        },
        "trusted": true,
        "id": "Rn9Q68hSoGur",
        "outputId": "14d91b7b-a7ec-4f72-b7e9-b0bf4dd55742"
      },
      "execution_count": null,
      "outputs": [
        {
          "execution_count": 61,
          "output_type": "execute_result",
          "data": {
            "text/plain": "               mac                   station_name  tambon_code   tambon_namt  \\\nid                                                                             \n9543  3C71BF1B1E28            โรงเรียนสรรพวิทยาคม       630601        แม่สอด   \n9544  3C71BF164F90           โรงเรียนท่าข้ามวิทยา       860206       ท่าข้าม   \n9545  807D3AF57920                  บ้านนาสะแบง_2       380704       นาสะแบง   \n9546  3C71BF18CEA4  โรงเรียนหนองสูงสามัคคีวิทยา_2       490706  หนองสูงเหนือ   \n9547  3C71BF164F90           โรงเรียนท่าข้ามวิทยา       860206       ท่าข้าม   \n\n      amphur_code amphur_namt  province_code province_namt   latitude  \\\nid                                                                      \n9543         6306      แม่สอด             63           ตาก  16.712990   \n9544         8602      ท่าแซะ             86         ชุมพร  10.579849   \n9545         3807     ศรีวิไล             38        บึงกาฬ  18.142499   \n9546         4907     หนองสูง             49      มุกดาหาร  16.494229   \n9547         8602      ท่าแซะ             86         ชุมพร  10.579849   \n\n       longitude                       time  humid  light  pm10  pm2.5  \\\nid                                                                       \n9543   98.573417  2022-06-04 09:00:00+07:00   72.2   84.0   3.0    2.0   \n9544   99.113146  2022-06-24 15:00:00+07:00   76.8   66.0   NaN    NaN   \n9545  103.806521  2022-06-15 07:00:00+07:00   90.4   27.0   4.0    3.0   \n9546  104.350891  2022-05-12 04:00:00+07:00   97.9    0.0   NaN    NaN   \n9547   99.113146  2022-06-04 12:00:00+07:00   91.3   43.0   NaN    NaN   \n\n      rainfall  wind_direct  wind_speed  \nid                                       \n9543       0.0         90.0         4.6  \n9544       0.0        225.0         1.5  \n9545       2.3          0.0         0.0  \n9546       0.0         45.0         0.0  \n9547       0.0         45.0         1.2  ",
            "text/html": "<div>\n<style scoped>\n    .dataframe tbody tr th:only-of-type {\n        vertical-align: middle;\n    }\n\n    .dataframe tbody tr th {\n        vertical-align: top;\n    }\n\n    .dataframe thead th {\n        text-align: right;\n    }\n</style>\n<table border=\"1\" class=\"dataframe\">\n  <thead>\n    <tr style=\"text-align: right;\">\n      <th></th>\n      <th>mac</th>\n      <th>station_name</th>\n      <th>tambon_code</th>\n      <th>tambon_namt</th>\n      <th>amphur_code</th>\n      <th>amphur_namt</th>\n      <th>province_code</th>\n      <th>province_namt</th>\n      <th>latitude</th>\n      <th>longitude</th>\n      <th>time</th>\n      <th>humid</th>\n      <th>light</th>\n      <th>pm10</th>\n      <th>pm2.5</th>\n      <th>rainfall</th>\n      <th>wind_direct</th>\n      <th>wind_speed</th>\n    </tr>\n    <tr>\n      <th>id</th>\n      <th></th>\n      <th></th>\n      <th></th>\n      <th></th>\n      <th></th>\n      <th></th>\n      <th></th>\n      <th></th>\n      <th></th>\n      <th></th>\n      <th></th>\n      <th></th>\n      <th></th>\n      <th></th>\n      <th></th>\n      <th></th>\n      <th></th>\n      <th></th>\n    </tr>\n  </thead>\n  <tbody>\n    <tr>\n      <th>9543</th>\n      <td>3C71BF1B1E28</td>\n      <td>โรงเรียนสรรพวิทยาคม</td>\n      <td>630601</td>\n      <td>แม่สอด</td>\n      <td>6306</td>\n      <td>แม่สอด</td>\n      <td>63</td>\n      <td>ตาก</td>\n      <td>16.712990</td>\n      <td>98.573417</td>\n      <td>2022-06-04 09:00:00+07:00</td>\n      <td>72.2</td>\n      <td>84.0</td>\n      <td>3.0</td>\n      <td>2.0</td>\n      <td>0.0</td>\n      <td>90.0</td>\n      <td>4.6</td>\n    </tr>\n    <tr>\n      <th>9544</th>\n      <td>3C71BF164F90</td>\n      <td>โรงเรียนท่าข้ามวิทยา</td>\n      <td>860206</td>\n      <td>ท่าข้าม</td>\n      <td>8602</td>\n      <td>ท่าแซะ</td>\n      <td>86</td>\n      <td>ชุมพร</td>\n      <td>10.579849</td>\n      <td>99.113146</td>\n      <td>2022-06-24 15:00:00+07:00</td>\n      <td>76.8</td>\n      <td>66.0</td>\n      <td>NaN</td>\n      <td>NaN</td>\n      <td>0.0</td>\n      <td>225.0</td>\n      <td>1.5</td>\n    </tr>\n    <tr>\n      <th>9545</th>\n      <td>807D3AF57920</td>\n      <td>บ้านนาสะแบง_2</td>\n      <td>380704</td>\n      <td>นาสะแบง</td>\n      <td>3807</td>\n      <td>ศรีวิไล</td>\n      <td>38</td>\n      <td>บึงกาฬ</td>\n      <td>18.142499</td>\n      <td>103.806521</td>\n      <td>2022-06-15 07:00:00+07:00</td>\n      <td>90.4</td>\n      <td>27.0</td>\n      <td>4.0</td>\n      <td>3.0</td>\n      <td>2.3</td>\n      <td>0.0</td>\n      <td>0.0</td>\n    </tr>\n    <tr>\n      <th>9546</th>\n      <td>3C71BF18CEA4</td>\n      <td>โรงเรียนหนองสูงสามัคคีวิทยา_2</td>\n      <td>490706</td>\n      <td>หนองสูงเหนือ</td>\n      <td>4907</td>\n      <td>หนองสูง</td>\n      <td>49</td>\n      <td>มุกดาหาร</td>\n      <td>16.494229</td>\n      <td>104.350891</td>\n      <td>2022-05-12 04:00:00+07:00</td>\n      <td>97.9</td>\n      <td>0.0</td>\n      <td>NaN</td>\n      <td>NaN</td>\n      <td>0.0</td>\n      <td>45.0</td>\n      <td>0.0</td>\n    </tr>\n    <tr>\n      <th>9547</th>\n      <td>3C71BF164F90</td>\n      <td>โรงเรียนท่าข้ามวิทยา</td>\n      <td>860206</td>\n      <td>ท่าข้าม</td>\n      <td>8602</td>\n      <td>ท่าแซะ</td>\n      <td>86</td>\n      <td>ชุมพร</td>\n      <td>10.579849</td>\n      <td>99.113146</td>\n      <td>2022-06-04 12:00:00+07:00</td>\n      <td>91.3</td>\n      <td>43.0</td>\n      <td>NaN</td>\n      <td>NaN</td>\n      <td>0.0</td>\n      <td>45.0</td>\n      <td>1.2</td>\n    </tr>\n  </tbody>\n</table>\n</div>"
          },
          "metadata": {}
        }
      ]
    },
    {
      "cell_type": "code",
      "source": [
        "pm_df['mac'].unique()"
      ],
      "metadata": {
        "execution": {
          "iopub.status.busy": "2024-09-23T15:49:08.695958Z",
          "iopub.execute_input": "2024-09-23T15:49:08.696413Z",
          "iopub.status.idle": "2024-09-23T15:49:08.705063Z",
          "shell.execute_reply.started": "2024-09-23T15:49:08.696369Z",
          "shell.execute_reply": "2024-09-23T15:49:08.703679Z"
        },
        "trusted": true,
        "id": "88p93Yj1oGur",
        "outputId": "9d4562b0-d5c3-45bc-8c4d-bf92e13e132c"
      },
      "execution_count": null,
      "outputs": [
        {
          "execution_count": 62,
          "output_type": "execute_result",
          "data": {
            "text/plain": "array(['3C71BF1B1E28', '3C71BF164F90', '807D3AF57920', '3C71BF18CEA4',\n       '3C71BF15DB04', '30AEA4F7AE44', '3C71BF17CDBC', '3C71BF18EA64'],\n      dtype=object)"
          },
          "metadata": {}
        }
      ]
    },
    {
      "cell_type": "code",
      "source": [
        "for m in pm_df['mac'].unique():\n",
        "    pm10 = float(round(pm_df[pm_df['mac']==m]['pm10'].mean()))\n",
        "    pm25 = float(round(pm_df[pm_df['mac']==m]['pm2.5'].mean()))\n",
        "\n",
        "    pm_df['pm10'].fillna(pm10, inplace=True)\n",
        "    pm_df['pm2.5'].fillna(pm25, inplace=True)"
      ],
      "metadata": {
        "execution": {
          "iopub.status.busy": "2024-09-23T15:49:09.85442Z",
          "iopub.execute_input": "2024-09-23T15:49:09.854879Z",
          "iopub.status.idle": "2024-09-23T15:49:09.888349Z",
          "shell.execute_reply.started": "2024-09-23T15:49:09.854836Z",
          "shell.execute_reply": "2024-09-23T15:49:09.886933Z"
        },
        "trusted": true,
        "id": "OcBfbvpToGur"
      },
      "execution_count": null,
      "outputs": []
    },
    {
      "cell_type": "code",
      "source": [
        "pm_df.isna().sum()"
      ],
      "metadata": {
        "execution": {
          "iopub.status.busy": "2024-09-23T15:49:10.876878Z",
          "iopub.execute_input": "2024-09-23T15:49:10.877319Z",
          "iopub.status.idle": "2024-09-23T15:49:10.888508Z",
          "shell.execute_reply.started": "2024-09-23T15:49:10.877281Z",
          "shell.execute_reply": "2024-09-23T15:49:10.887238Z"
        },
        "trusted": true,
        "id": "3MALk4yhoGur",
        "outputId": "2e8209c9-dd73-48cc-bce8-1f8a58afa99e"
      },
      "execution_count": null,
      "outputs": [
        {
          "execution_count": 64,
          "output_type": "execute_result",
          "data": {
            "text/plain": "mac              0\nstation_name     0\ntambon_code      0\ntambon_namt      0\namphur_code      0\namphur_namt      0\nprovince_code    0\nprovince_namt    0\nlatitude         0\nlongitude        0\ntime             0\nhumid            0\nlight            0\npm10             0\npm2.5            0\nrainfall         0\nwind_direct      0\nwind_speed       0\ndtype: int64"
          },
          "metadata": {}
        }
      ]
    },
    {
      "cell_type": "code",
      "source": [
        "test_data = pm_df"
      ],
      "metadata": {
        "execution": {
          "iopub.status.busy": "2024-09-23T15:49:12.757037Z",
          "iopub.execute_input": "2024-09-23T15:49:12.757474Z",
          "iopub.status.idle": "2024-09-23T15:49:12.762563Z",
          "shell.execute_reply.started": "2024-09-23T15:49:12.757435Z",
          "shell.execute_reply": "2024-09-23T15:49:12.761224Z"
        },
        "trusted": true,
        "id": "0u92675qoGur"
      },
      "execution_count": null,
      "outputs": []
    },
    {
      "cell_type": "code",
      "source": [
        "test_data"
      ],
      "metadata": {
        "execution": {
          "iopub.status.busy": "2024-09-23T15:49:13.99111Z",
          "iopub.execute_input": "2024-09-23T15:49:13.991525Z",
          "iopub.status.idle": "2024-09-23T15:49:14.019204Z",
          "shell.execute_reply.started": "2024-09-23T15:49:13.991482Z",
          "shell.execute_reply": "2024-09-23T15:49:14.017673Z"
        },
        "trusted": true,
        "id": "pLjb20Y9oGur",
        "outputId": "c5f2c903-3dee-48a5-b48d-4f11aeb438fc"
      },
      "execution_count": null,
      "outputs": [
        {
          "execution_count": 66,
          "output_type": "execute_result",
          "data": {
            "text/plain": "                mac                   station_name  tambon_code   tambon_namt  \\\nid                                                                              \n9543   3C71BF1B1E28            โรงเรียนสรรพวิทยาคม       630601        แม่สอด   \n9544   3C71BF164F90           โรงเรียนท่าข้ามวิทยา       860206       ท่าข้าม   \n9545   807D3AF57920                  บ้านนาสะแบง_2       380704       นาสะแบง   \n9546   3C71BF18CEA4  โรงเรียนหนองสูงสามัคคีวิทยา_2       490706  หนองสูงเหนือ   \n9547   3C71BF164F90           โรงเรียนท่าข้ามวิทยา       860206       ท่าข้าม   \n...             ...                            ...          ...           ...   \n13629  3C71BF18EA64                       บ้านนา_2       300903         กำปัง   \n13630  807D3AF57920                  บ้านนาสะแบง_2       380704       นาสะแบง   \n13631  3C71BF17CDBC                 โรงเรียนบ้านนา       550404          สถาน   \n13632  3C71BF18EA64                       บ้านนา_2       300903         กำปัง   \n13633  807D3AF57920                  บ้านนาสะแบง_2       380704       นาสะแบง   \n\n       amphur_code amphur_namt  province_code province_namt   latitude  \\\nid                                                                       \n9543          6306      แม่สอด             63           ตาก  16.712990   \n9544          8602      ท่าแซะ             86         ชุมพร  10.579849   \n9545          3807     ศรีวิไล             38        บึงกาฬ  18.142499   \n9546          4907     หนองสูง             49      มุกดาหาร  16.494229   \n9547          8602      ท่าแซะ             86         ชุมพร  10.579849   \n...            ...         ...            ...           ...        ...   \n13629         3009      โนนไทย             30    นครราชสีมา  15.112831   \n13630         3807     ศรีวิไล             38        บึงกาฬ  18.142499   \n13631         5504      นาน้อย             55          น่าน  18.241106   \n13632         3009      โนนไทย             30    นครราชสีมา  15.112831   \n13633         3807     ศรีวิไล             38        บึงกาฬ  18.142499   \n\n        longitude                       time  humid  light  pm10  pm2.5  \\\nid                                                                        \n9543    98.573417  2022-06-04 09:00:00+07:00   72.2   84.0   3.0    2.0   \n9544    99.113146  2022-06-24 15:00:00+07:00   76.8   66.0  10.0    9.0   \n9545   103.806521  2022-06-15 07:00:00+07:00   90.4   27.0   4.0    3.0   \n9546   104.350891  2022-05-12 04:00:00+07:00   97.9    0.0  10.0    9.0   \n9547    99.113146  2022-06-04 12:00:00+07:00   91.3   43.0  10.0    9.0   \n...           ...                        ...    ...    ...   ...    ...   \n13629  102.052114  2022-05-13 09:00:00+07:00   62.3   78.0  10.0    9.0   \n13630  103.806521  2022-06-25 14:00:00+07:00   69.6   88.0   2.0    1.0   \n13631  100.690577  2022-05-18 21:00:00+07:00   95.3    0.0  10.0    9.0   \n13632  102.052114  2022-07-07 02:00:00+07:00   85.8    0.0  10.0    9.0   \n13633  103.806521  2022-07-31 10:00:00+07:00   73.6   89.0   2.0    1.0   \n\n       rainfall  wind_direct  wind_speed  \nid                                        \n9543        0.0         90.0         4.6  \n9544        0.0        225.0         1.5  \n9545        2.3          0.0         0.0  \n9546        0.0         45.0         0.0  \n9547        0.0         45.0         1.2  \n...         ...          ...         ...  \n13629       0.0        225.0         8.6  \n13630       0.0          0.0         0.0  \n13631       0.0          0.0         0.0  \n13632       0.0        157.5         0.0  \n13633       0.0        135.0         3.6  \n\n[4091 rows x 18 columns]",
            "text/html": "<div>\n<style scoped>\n    .dataframe tbody tr th:only-of-type {\n        vertical-align: middle;\n    }\n\n    .dataframe tbody tr th {\n        vertical-align: top;\n    }\n\n    .dataframe thead th {\n        text-align: right;\n    }\n</style>\n<table border=\"1\" class=\"dataframe\">\n  <thead>\n    <tr style=\"text-align: right;\">\n      <th></th>\n      <th>mac</th>\n      <th>station_name</th>\n      <th>tambon_code</th>\n      <th>tambon_namt</th>\n      <th>amphur_code</th>\n      <th>amphur_namt</th>\n      <th>province_code</th>\n      <th>province_namt</th>\n      <th>latitude</th>\n      <th>longitude</th>\n      <th>time</th>\n      <th>humid</th>\n      <th>light</th>\n      <th>pm10</th>\n      <th>pm2.5</th>\n      <th>rainfall</th>\n      <th>wind_direct</th>\n      <th>wind_speed</th>\n    </tr>\n    <tr>\n      <th>id</th>\n      <th></th>\n      <th></th>\n      <th></th>\n      <th></th>\n      <th></th>\n      <th></th>\n      <th></th>\n      <th></th>\n      <th></th>\n      <th></th>\n      <th></th>\n      <th></th>\n      <th></th>\n      <th></th>\n      <th></th>\n      <th></th>\n      <th></th>\n      <th></th>\n    </tr>\n  </thead>\n  <tbody>\n    <tr>\n      <th>9543</th>\n      <td>3C71BF1B1E28</td>\n      <td>โรงเรียนสรรพวิทยาคม</td>\n      <td>630601</td>\n      <td>แม่สอด</td>\n      <td>6306</td>\n      <td>แม่สอด</td>\n      <td>63</td>\n      <td>ตาก</td>\n      <td>16.712990</td>\n      <td>98.573417</td>\n      <td>2022-06-04 09:00:00+07:00</td>\n      <td>72.2</td>\n      <td>84.0</td>\n      <td>3.0</td>\n      <td>2.0</td>\n      <td>0.0</td>\n      <td>90.0</td>\n      <td>4.6</td>\n    </tr>\n    <tr>\n      <th>9544</th>\n      <td>3C71BF164F90</td>\n      <td>โรงเรียนท่าข้ามวิทยา</td>\n      <td>860206</td>\n      <td>ท่าข้าม</td>\n      <td>8602</td>\n      <td>ท่าแซะ</td>\n      <td>86</td>\n      <td>ชุมพร</td>\n      <td>10.579849</td>\n      <td>99.113146</td>\n      <td>2022-06-24 15:00:00+07:00</td>\n      <td>76.8</td>\n      <td>66.0</td>\n      <td>10.0</td>\n      <td>9.0</td>\n      <td>0.0</td>\n      <td>225.0</td>\n      <td>1.5</td>\n    </tr>\n    <tr>\n      <th>9545</th>\n      <td>807D3AF57920</td>\n      <td>บ้านนาสะแบง_2</td>\n      <td>380704</td>\n      <td>นาสะแบง</td>\n      <td>3807</td>\n      <td>ศรีวิไล</td>\n      <td>38</td>\n      <td>บึงกาฬ</td>\n      <td>18.142499</td>\n      <td>103.806521</td>\n      <td>2022-06-15 07:00:00+07:00</td>\n      <td>90.4</td>\n      <td>27.0</td>\n      <td>4.0</td>\n      <td>3.0</td>\n      <td>2.3</td>\n      <td>0.0</td>\n      <td>0.0</td>\n    </tr>\n    <tr>\n      <th>9546</th>\n      <td>3C71BF18CEA4</td>\n      <td>โรงเรียนหนองสูงสามัคคีวิทยา_2</td>\n      <td>490706</td>\n      <td>หนองสูงเหนือ</td>\n      <td>4907</td>\n      <td>หนองสูง</td>\n      <td>49</td>\n      <td>มุกดาหาร</td>\n      <td>16.494229</td>\n      <td>104.350891</td>\n      <td>2022-05-12 04:00:00+07:00</td>\n      <td>97.9</td>\n      <td>0.0</td>\n      <td>10.0</td>\n      <td>9.0</td>\n      <td>0.0</td>\n      <td>45.0</td>\n      <td>0.0</td>\n    </tr>\n    <tr>\n      <th>9547</th>\n      <td>3C71BF164F90</td>\n      <td>โรงเรียนท่าข้ามวิทยา</td>\n      <td>860206</td>\n      <td>ท่าข้าม</td>\n      <td>8602</td>\n      <td>ท่าแซะ</td>\n      <td>86</td>\n      <td>ชุมพร</td>\n      <td>10.579849</td>\n      <td>99.113146</td>\n      <td>2022-06-04 12:00:00+07:00</td>\n      <td>91.3</td>\n      <td>43.0</td>\n      <td>10.0</td>\n      <td>9.0</td>\n      <td>0.0</td>\n      <td>45.0</td>\n      <td>1.2</td>\n    </tr>\n    <tr>\n      <th>...</th>\n      <td>...</td>\n      <td>...</td>\n      <td>...</td>\n      <td>...</td>\n      <td>...</td>\n      <td>...</td>\n      <td>...</td>\n      <td>...</td>\n      <td>...</td>\n      <td>...</td>\n      <td>...</td>\n      <td>...</td>\n      <td>...</td>\n      <td>...</td>\n      <td>...</td>\n      <td>...</td>\n      <td>...</td>\n      <td>...</td>\n    </tr>\n    <tr>\n      <th>13629</th>\n      <td>3C71BF18EA64</td>\n      <td>บ้านนา_2</td>\n      <td>300903</td>\n      <td>กำปัง</td>\n      <td>3009</td>\n      <td>โนนไทย</td>\n      <td>30</td>\n      <td>นครราชสีมา</td>\n      <td>15.112831</td>\n      <td>102.052114</td>\n      <td>2022-05-13 09:00:00+07:00</td>\n      <td>62.3</td>\n      <td>78.0</td>\n      <td>10.0</td>\n      <td>9.0</td>\n      <td>0.0</td>\n      <td>225.0</td>\n      <td>8.6</td>\n    </tr>\n    <tr>\n      <th>13630</th>\n      <td>807D3AF57920</td>\n      <td>บ้านนาสะแบง_2</td>\n      <td>380704</td>\n      <td>นาสะแบง</td>\n      <td>3807</td>\n      <td>ศรีวิไล</td>\n      <td>38</td>\n      <td>บึงกาฬ</td>\n      <td>18.142499</td>\n      <td>103.806521</td>\n      <td>2022-06-25 14:00:00+07:00</td>\n      <td>69.6</td>\n      <td>88.0</td>\n      <td>2.0</td>\n      <td>1.0</td>\n      <td>0.0</td>\n      <td>0.0</td>\n      <td>0.0</td>\n    </tr>\n    <tr>\n      <th>13631</th>\n      <td>3C71BF17CDBC</td>\n      <td>โรงเรียนบ้านนา</td>\n      <td>550404</td>\n      <td>สถาน</td>\n      <td>5504</td>\n      <td>นาน้อย</td>\n      <td>55</td>\n      <td>น่าน</td>\n      <td>18.241106</td>\n      <td>100.690577</td>\n      <td>2022-05-18 21:00:00+07:00</td>\n      <td>95.3</td>\n      <td>0.0</td>\n      <td>10.0</td>\n      <td>9.0</td>\n      <td>0.0</td>\n      <td>0.0</td>\n      <td>0.0</td>\n    </tr>\n    <tr>\n      <th>13632</th>\n      <td>3C71BF18EA64</td>\n      <td>บ้านนา_2</td>\n      <td>300903</td>\n      <td>กำปัง</td>\n      <td>3009</td>\n      <td>โนนไทย</td>\n      <td>30</td>\n      <td>นครราชสีมา</td>\n      <td>15.112831</td>\n      <td>102.052114</td>\n      <td>2022-07-07 02:00:00+07:00</td>\n      <td>85.8</td>\n      <td>0.0</td>\n      <td>10.0</td>\n      <td>9.0</td>\n      <td>0.0</td>\n      <td>157.5</td>\n      <td>0.0</td>\n    </tr>\n    <tr>\n      <th>13633</th>\n      <td>807D3AF57920</td>\n      <td>บ้านนาสะแบง_2</td>\n      <td>380704</td>\n      <td>นาสะแบง</td>\n      <td>3807</td>\n      <td>ศรีวิไล</td>\n      <td>38</td>\n      <td>บึงกาฬ</td>\n      <td>18.142499</td>\n      <td>103.806521</td>\n      <td>2022-07-31 10:00:00+07:00</td>\n      <td>73.6</td>\n      <td>89.0</td>\n      <td>2.0</td>\n      <td>1.0</td>\n      <td>0.0</td>\n      <td>135.0</td>\n      <td>3.6</td>\n    </tr>\n  </tbody>\n</table>\n<p>4091 rows × 18 columns</p>\n</div>"
          },
          "metadata": {}
        }
      ]
    },
    {
      "cell_type": "code",
      "source": [
        "dummies = pd.get_dummies(test_data['mac'], prefix='mac')\n",
        "test_data = pd.concat([test_data, dummies], axis=1)\n",
        "test_data.drop(columns=['mac'], inplace=True)\n",
        "\n",
        "bool_cols = test_data.select_dtypes(include='bool')\n",
        "test_data[bool_cols.columns] = bool_cols.astype(int)"
      ],
      "metadata": {
        "execution": {
          "iopub.status.busy": "2024-09-23T15:49:16.76439Z",
          "iopub.execute_input": "2024-09-23T15:49:16.764894Z",
          "iopub.status.idle": "2024-09-23T15:49:16.77856Z",
          "shell.execute_reply.started": "2024-09-23T15:49:16.764849Z",
          "shell.execute_reply": "2024-09-23T15:49:16.777383Z"
        },
        "trusted": true,
        "id": "ZIHOX8yOoGus"
      },
      "execution_count": null,
      "outputs": []
    },
    {
      "cell_type": "code",
      "source": [
        "test_data['time'] = pd.to_datetime(test_data['time'])\n",
        "test_data['hour'] = test_data.loc[:, 'time'].dt.hour\n",
        "test_data['day_of_week'] = test_data.loc[:, 'time'].dt.dayofweek\n",
        "test_data['month'] = test_data.loc[:, 'time'].dt.month\n",
        "test_data = test_data.drop(['time'], axis=1)"
      ],
      "metadata": {
        "execution": {
          "iopub.status.busy": "2024-09-23T15:49:17.967406Z",
          "iopub.execute_input": "2024-09-23T15:49:17.967824Z",
          "iopub.status.idle": "2024-09-23T15:49:18.010694Z",
          "shell.execute_reply.started": "2024-09-23T15:49:17.967782Z",
          "shell.execute_reply": "2024-09-23T15:49:18.009342Z"
        },
        "trusted": true,
        "id": "xzM2HtSsoGus"
      },
      "execution_count": null,
      "outputs": []
    },
    {
      "cell_type": "code",
      "source": [
        "X = test_data[cols]"
      ],
      "metadata": {
        "execution": {
          "iopub.status.busy": "2024-09-23T15:49:44.985953Z",
          "iopub.execute_input": "2024-09-23T15:49:44.986384Z",
          "iopub.status.idle": "2024-09-23T15:49:44.993651Z",
          "shell.execute_reply.started": "2024-09-23T15:49:44.986345Z",
          "shell.execute_reply": "2024-09-23T15:49:44.992342Z"
        },
        "trusted": true,
        "id": "8UHuYPWkoGus"
      },
      "execution_count": null,
      "outputs": []
    },
    {
      "cell_type": "code",
      "source": [
        "best_rf = random_search_v3.best_estimator_\n",
        "y_pred_result = best_rf.predict(X)"
      ],
      "metadata": {
        "execution": {
          "iopub.status.busy": "2024-09-23T15:50:17.941222Z",
          "iopub.execute_input": "2024-09-23T15:50:17.941732Z",
          "iopub.status.idle": "2024-09-23T15:50:18.703599Z",
          "shell.execute_reply.started": "2024-09-23T15:50:17.941683Z",
          "shell.execute_reply": "2024-09-23T15:50:18.702335Z"
        },
        "trusted": true,
        "id": "xsUpxv81oGus"
      },
      "execution_count": null,
      "outputs": []
    },
    {
      "cell_type": "code",
      "source": [
        "y_pred_result"
      ],
      "metadata": {
        "execution": {
          "iopub.status.busy": "2024-09-23T15:50:21.061929Z",
          "iopub.execute_input": "2024-09-23T15:50:21.062359Z",
          "iopub.status.idle": "2024-09-23T15:50:21.070252Z",
          "shell.execute_reply.started": "2024-09-23T15:50:21.062319Z",
          "shell.execute_reply": "2024-09-23T15:50:21.068976Z"
        },
        "trusted": true,
        "id": "WkctmD3PoGuz",
        "outputId": "63914cbe-8763-4873-eb43-d13a872c455a"
      },
      "execution_count": null,
      "outputs": [
        {
          "execution_count": 72,
          "output_type": "execute_result",
          "data": {
            "text/plain": "array([31.02455556, 31.266     , 26.03411111, ..., 24.34244444,\n       26.89122222, 32.76577778])"
          },
          "metadata": {}
        }
      ]
    },
    {
      "cell_type": "code",
      "source": [
        "import math\n",
        "\n",
        "def round_custom(value):\n",
        "    # Multiply by 1000 to shift decimal 3 places to the right\n",
        "    temp = value * 1000\n",
        "\n",
        "    # Get the decimal part\n",
        "    decimal_part = temp - math.floor(temp)\n",
        "\n",
        "    if decimal_part >= 0.5:\n",
        "        # Round up if 4th decimal place is 5 or more\n",
        "        return math.ceil(temp) / 1000\n",
        "    else:\n",
        "        # Round down if 4th decimal place is less than 5\n",
        "        return math.floor(temp) / 1000"
      ],
      "metadata": {
        "execution": {
          "iopub.status.busy": "2024-09-23T15:50:32.221397Z",
          "iopub.execute_input": "2024-09-23T15:50:32.221914Z",
          "iopub.status.idle": "2024-09-23T15:50:32.22926Z",
          "shell.execute_reply.started": "2024-09-23T15:50:32.221864Z",
          "shell.execute_reply": "2024-09-23T15:50:32.227611Z"
        },
        "trusted": true,
        "id": "ocRfu1McoGu0"
      },
      "execution_count": null,
      "outputs": []
    },
    {
      "cell_type": "code",
      "source": [
        "s_pred_result = pd.Series(y_pred_result)\n",
        "rounded_s_pred = s_pred_result.apply(round_custom)"
      ],
      "metadata": {
        "execution": {
          "iopub.status.busy": "2024-09-23T15:50:33.701503Z",
          "iopub.execute_input": "2024-09-23T15:50:33.702608Z",
          "iopub.status.idle": "2024-09-23T15:50:33.711344Z",
          "shell.execute_reply.started": "2024-09-23T15:50:33.702558Z",
          "shell.execute_reply": "2024-09-23T15:50:33.709737Z"
        },
        "trusted": true,
        "id": "LjCgmT-GoGu0"
      },
      "execution_count": null,
      "outputs": []
    },
    {
      "cell_type": "code",
      "source": [
        "rounded_s_pred"
      ],
      "metadata": {
        "execution": {
          "iopub.status.busy": "2024-09-23T15:50:34.660059Z",
          "iopub.execute_input": "2024-09-23T15:50:34.661061Z",
          "iopub.status.idle": "2024-09-23T15:50:34.670497Z",
          "shell.execute_reply.started": "2024-09-23T15:50:34.661007Z",
          "shell.execute_reply": "2024-09-23T15:50:34.669171Z"
        },
        "trusted": true,
        "id": "M5e7aUJqoGu0",
        "outputId": "6464260d-271f-4276-91a0-da2f00f2a232"
      },
      "execution_count": null,
      "outputs": [
        {
          "execution_count": 75,
          "output_type": "execute_result",
          "data": {
            "text/plain": "0       31.025\n1       31.266\n2       26.034\n3       24.348\n4       27.148\n         ...  \n4086    35.537\n4087    33.241\n4088    24.342\n4089    26.891\n4090    32.766\nLength: 4091, dtype: float64"
          },
          "metadata": {}
        }
      ]
    },
    {
      "cell_type": "code",
      "source": [
        "test_df.shape"
      ],
      "metadata": {
        "execution": {
          "iopub.status.busy": "2024-09-23T15:50:37.419358Z",
          "iopub.execute_input": "2024-09-23T15:50:37.419883Z",
          "iopub.status.idle": "2024-09-23T15:50:37.427637Z",
          "shell.execute_reply.started": "2024-09-23T15:50:37.41983Z",
          "shell.execute_reply": "2024-09-23T15:50:37.42624Z"
        },
        "trusted": true,
        "id": "y9KpUuoLoGu0",
        "outputId": "e8b7f5e1-febc-4fbd-9be3-c1bf8ad0eae9"
      },
      "execution_count": null,
      "outputs": [
        {
          "execution_count": 76,
          "output_type": "execute_result",
          "data": {
            "text/plain": "(4091, 19)"
          },
          "metadata": {}
        }
      ]
    },
    {
      "cell_type": "code",
      "source": [
        "submit = pd.read_csv('/kaggle/input/temperature-forecasting-for-localized-weather-stat/sample_submission.csv')"
      ],
      "metadata": {
        "execution": {
          "iopub.status.busy": "2024-09-23T15:50:39.144132Z",
          "iopub.execute_input": "2024-09-23T15:50:39.145407Z",
          "iopub.status.idle": "2024-09-23T15:50:39.162003Z",
          "shell.execute_reply.started": "2024-09-23T15:50:39.145335Z",
          "shell.execute_reply": "2024-09-23T15:50:39.160854Z"
        },
        "trusted": true,
        "id": "6-P_r9mMoGu0"
      },
      "execution_count": null,
      "outputs": []
    },
    {
      "cell_type": "code",
      "source": [
        "submit_phone = submit.copy()"
      ],
      "metadata": {
        "execution": {
          "iopub.status.busy": "2024-09-23T15:50:40.320196Z",
          "iopub.execute_input": "2024-09-23T15:50:40.320596Z",
          "iopub.status.idle": "2024-09-23T15:50:40.326229Z",
          "shell.execute_reply.started": "2024-09-23T15:50:40.32056Z",
          "shell.execute_reply": "2024-09-23T15:50:40.325084Z"
        },
        "trusted": true,
        "id": "GqWNTtXVoGu1"
      },
      "execution_count": null,
      "outputs": []
    },
    {
      "cell_type": "code",
      "source": [
        "submit_phone['temp'] = rounded_s_pred"
      ],
      "metadata": {
        "execution": {
          "iopub.status.busy": "2024-09-23T15:50:41.179943Z",
          "iopub.execute_input": "2024-09-23T15:50:41.180353Z",
          "iopub.status.idle": "2024-09-23T15:50:41.18664Z",
          "shell.execute_reply.started": "2024-09-23T15:50:41.180314Z",
          "shell.execute_reply": "2024-09-23T15:50:41.185228Z"
        },
        "trusted": true,
        "id": "J6UvWv-ZoGu1"
      },
      "execution_count": null,
      "outputs": []
    },
    {
      "cell_type": "code",
      "source": [
        "submit_phone.head()"
      ],
      "metadata": {
        "execution": {
          "iopub.status.busy": "2024-09-23T15:50:42.548378Z",
          "iopub.execute_input": "2024-09-23T15:50:42.548812Z",
          "iopub.status.idle": "2024-09-23T15:50:42.560409Z",
          "shell.execute_reply.started": "2024-09-23T15:50:42.548771Z",
          "shell.execute_reply": "2024-09-23T15:50:42.559251Z"
        },
        "trusted": true,
        "id": "dxcUcqdboGu1",
        "outputId": "535c0c69-870b-4697-bcbe-841077d798e9"
      },
      "execution_count": null,
      "outputs": [
        {
          "execution_count": 80,
          "output_type": "execute_result",
          "data": {
            "text/plain": "     id    temp\n0  9543  31.025\n1  9544  31.266\n2  9545  26.034\n3  9546  24.348\n4  9547  27.148",
            "text/html": "<div>\n<style scoped>\n    .dataframe tbody tr th:only-of-type {\n        vertical-align: middle;\n    }\n\n    .dataframe tbody tr th {\n        vertical-align: top;\n    }\n\n    .dataframe thead th {\n        text-align: right;\n    }\n</style>\n<table border=\"1\" class=\"dataframe\">\n  <thead>\n    <tr style=\"text-align: right;\">\n      <th></th>\n      <th>id</th>\n      <th>temp</th>\n    </tr>\n  </thead>\n  <tbody>\n    <tr>\n      <th>0</th>\n      <td>9543</td>\n      <td>31.025</td>\n    </tr>\n    <tr>\n      <th>1</th>\n      <td>9544</td>\n      <td>31.266</td>\n    </tr>\n    <tr>\n      <th>2</th>\n      <td>9545</td>\n      <td>26.034</td>\n    </tr>\n    <tr>\n      <th>3</th>\n      <td>9546</td>\n      <td>24.348</td>\n    </tr>\n    <tr>\n      <th>4</th>\n      <td>9547</td>\n      <td>27.148</td>\n    </tr>\n  </tbody>\n</table>\n</div>"
          },
          "metadata": {}
        }
      ]
    },
    {
      "cell_type": "code",
      "source": [
        "submit_phone.to_csv('/kaggle/working/submission.csv', index=False)"
      ],
      "metadata": {
        "execution": {
          "iopub.status.busy": "2024-09-23T15:50:43.800056Z",
          "iopub.execute_input": "2024-09-23T15:50:43.800502Z",
          "iopub.status.idle": "2024-09-23T15:50:43.816756Z",
          "shell.execute_reply.started": "2024-09-23T15:50:43.80046Z",
          "shell.execute_reply": "2024-09-23T15:50:43.815081Z"
        },
        "trusted": true,
        "id": "KNnNtmSnoGu1"
      },
      "execution_count": null,
      "outputs": []
    },
    {
      "cell_type": "code",
      "source": [
        "check_submit = pd.read_csv('/kaggle/working/submission.csv')\n",
        "check_submit"
      ],
      "metadata": {
        "execution": {
          "iopub.status.busy": "2024-09-23T15:50:44.850077Z",
          "iopub.execute_input": "2024-09-23T15:50:44.851242Z",
          "iopub.status.idle": "2024-09-23T15:50:44.865648Z",
          "shell.execute_reply.started": "2024-09-23T15:50:44.851183Z",
          "shell.execute_reply": "2024-09-23T15:50:44.864494Z"
        },
        "trusted": true,
        "id": "pdkS7gL3oGu1",
        "outputId": "02fc12cb-c817-4fa1-a91f-438c416df4fd"
      },
      "execution_count": null,
      "outputs": [
        {
          "execution_count": 82,
          "output_type": "execute_result",
          "data": {
            "text/plain": "         id    temp\n0      9543  31.025\n1      9544  31.266\n2      9545  26.034\n3      9546  24.348\n4      9547  27.148\n...     ...     ...\n4086  13629  35.537\n4087  13630  33.241\n4088  13631  24.342\n4089  13632  26.891\n4090  13633  32.766\n\n[4091 rows x 2 columns]",
            "text/html": "<div>\n<style scoped>\n    .dataframe tbody tr th:only-of-type {\n        vertical-align: middle;\n    }\n\n    .dataframe tbody tr th {\n        vertical-align: top;\n    }\n\n    .dataframe thead th {\n        text-align: right;\n    }\n</style>\n<table border=\"1\" class=\"dataframe\">\n  <thead>\n    <tr style=\"text-align: right;\">\n      <th></th>\n      <th>id</th>\n      <th>temp</th>\n    </tr>\n  </thead>\n  <tbody>\n    <tr>\n      <th>0</th>\n      <td>9543</td>\n      <td>31.025</td>\n    </tr>\n    <tr>\n      <th>1</th>\n      <td>9544</td>\n      <td>31.266</td>\n    </tr>\n    <tr>\n      <th>2</th>\n      <td>9545</td>\n      <td>26.034</td>\n    </tr>\n    <tr>\n      <th>3</th>\n      <td>9546</td>\n      <td>24.348</td>\n    </tr>\n    <tr>\n      <th>4</th>\n      <td>9547</td>\n      <td>27.148</td>\n    </tr>\n    <tr>\n      <th>...</th>\n      <td>...</td>\n      <td>...</td>\n    </tr>\n    <tr>\n      <th>4086</th>\n      <td>13629</td>\n      <td>35.537</td>\n    </tr>\n    <tr>\n      <th>4087</th>\n      <td>13630</td>\n      <td>33.241</td>\n    </tr>\n    <tr>\n      <th>4088</th>\n      <td>13631</td>\n      <td>24.342</td>\n    </tr>\n    <tr>\n      <th>4089</th>\n      <td>13632</td>\n      <td>26.891</td>\n    </tr>\n    <tr>\n      <th>4090</th>\n      <td>13633</td>\n      <td>32.766</td>\n    </tr>\n  </tbody>\n</table>\n<p>4091 rows × 2 columns</p>\n</div>"
          },
          "metadata": {}
        }
      ]
    },
    {
      "cell_type": "code",
      "source": [
        "check_submit['temp'].describe()"
      ],
      "metadata": {
        "execution": {
          "iopub.status.busy": "2024-09-23T15:50:47.108284Z",
          "iopub.execute_input": "2024-09-23T15:50:47.1087Z",
          "iopub.status.idle": "2024-09-23T15:50:47.122732Z",
          "shell.execute_reply.started": "2024-09-23T15:50:47.108659Z",
          "shell.execute_reply": "2024-09-23T15:50:47.121581Z"
        },
        "trusted": true,
        "id": "M_6BvSKsoGu1",
        "outputId": "fb041362-2f43-4e03-acc7-40f9fe01381d"
      },
      "execution_count": null,
      "outputs": [
        {
          "execution_count": 83,
          "output_type": "execute_result",
          "data": {
            "text/plain": "count    4091.000000\nmean       29.542770\nstd         4.031607\nmin        22.936000\n25%        26.142000\n50%        28.572000\n75%        32.492000\nmax        40.226000\nName: temp, dtype: float64"
          },
          "metadata": {}
        }
      ]
    },
    {
      "cell_type": "code",
      "source": [],
      "metadata": {
        "id": "Cqg5Ac5UoGu2"
      },
      "execution_count": null,
      "outputs": []
    }
  ]
}